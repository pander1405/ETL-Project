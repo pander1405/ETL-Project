{
 "cells": [
  {
   "cell_type": "code",
   "execution_count": 1,
   "metadata": {},
   "outputs": [],
   "source": [
    "#imports\n",
    "from bs4 import BeautifulSoup as bs\n",
    "from webdriver_manager.chrome import ChromeDriverManager\n",
    "from splinter import Browser\n",
    "import pyperclip\n",
    "import webbrowser\n",
    "import requests\n",
    "import pandas as pd"
   ]
  },
  {
   "cell_type": "code",
   "execution_count": 2,
   "metadata": {},
   "outputs": [
    {
     "name": "stderr",
     "output_type": "stream",
     "text": [
      "[WDM] - ====== WebDriver manager ======\n",
      "[WDM] - Current google-chrome version is 88.0.4324\n",
      "[WDM] - Get LATEST driver version for 88.0.4324\n"
     ]
    },
    {
     "name": "stdout",
     "output_type": "stream",
     "text": [
      "\n",
      "\n"
     ]
    },
    {
     "name": "stderr",
     "output_type": "stream",
     "text": [
      "[WDM] - Driver [C:\\Users\\paula\\.wdm\\drivers\\chromedriver\\win32\\88.0.4324.96\\chromedriver.exe] found in cache\n"
     ]
    }
   ],
   "source": [
    "#initiate driver\n",
    "executable_path = {'executable_path': ChromeDriverManager().install()}\n",
    "browser = Browser(\"chrome\", **executable_path, headless=False)"
   ]
  },
  {
   "cell_type": "code",
   "execution_count": 7,
   "metadata": {},
   "outputs": [],
   "source": [
    "#navigate and parse\n",
    "\n",
    "url = 'https://www.goodreads.com/choiceawards/best-fiction-books-2019'\n",
    "page = requests.get(url)\n",
    "soup = bs(page.content, 'html.parser')\n",
    "# soup"
   ]
  },
  {
   "cell_type": "code",
   "execution_count": 8,
   "metadata": {},
   "outputs": [],
   "source": [
    "#grab links for all books\n",
    "links_dirty = soup.find_all('a', class_='pollAnswer__bookLink')\n",
    "\n",
    "links = []\n",
    "\n",
    "for x in links_dirty:\n",
    "\n",
    "    links.append('http://www.goodreads.com' + x['href'])"
   ]
  },
  {
   "cell_type": "code",
   "execution_count": 9,
   "metadata": {},
   "outputs": [],
   "source": [
    "#Loop through links and scrape each link\n",
    "\n",
    "title = []\n",
    "author = []\n",
    "rating = []\n",
    "\n",
    "for x in links:\n",
    "    page = requests.get(x)\n",
    "    soup = bs(page.content, 'html.parser')\n",
    "\n",
    "    try:\n",
    "        booktitle = soup.find('h1', id=\"bookTitle\").text.strip()\n",
    "        title.append(booktitle)\n",
    "\n",
    "    except:\n",
    "        print('no title found')\n",
    "        title.append('No Title')\n",
    "\n",
    "    try:\n",
    "        bookauthor = soup.find('a', class_=\"authorName\").text.strip()\n",
    "        author.append(bookauthor)\n",
    "\n",
    "    except:\n",
    "        print('no author found')\n",
    "        title.append('No Author')\n",
    "\n",
    "    try:\n",
    "        bookrating = soup.find('span', itemprop=\"ratingValue\").text.strip()\n",
    "        rating.append(bookrating)\n",
    "\n",
    "    except:\n",
    "        print('no rating found')\n",
    "        title.append('No Rating')\n",
    "\n"
   ]
  },
  {
   "cell_type": "code",
   "execution_count": 10,
   "metadata": {},
   "outputs": [],
   "source": [
    "T_A_R = pd.DataFrame({\n",
    "    'Title': title,\n",
    "    'Author': author,\n",
    "    'Rating': rating\n",
    "})\n",
    "\n",
    "T_A_R.to_csv('paul.csv', index=False)"
   ]
  },
  {
   "cell_type": "code",
   "execution_count": 11,
   "metadata": {},
   "outputs": [
    {
     "data": {
      "text/html": [
       "<div>\n",
       "<style scoped>\n",
       "    .dataframe tbody tr th:only-of-type {\n",
       "        vertical-align: middle;\n",
       "    }\n",
       "\n",
       "    .dataframe tbody tr th {\n",
       "        vertical-align: top;\n",
       "    }\n",
       "\n",
       "    .dataframe thead th {\n",
       "        text-align: right;\n",
       "    }\n",
       "</style>\n",
       "<table border=\"1\" class=\"dataframe\">\n",
       "  <thead>\n",
       "    <tr style=\"text-align: right;\">\n",
       "      <th></th>\n",
       "      <th>Title</th>\n",
       "      <th>Author</th>\n",
       "      <th>Rating</th>\n",
       "    </tr>\n",
       "  </thead>\n",
       "  <tbody>\n",
       "    <tr>\n",
       "      <th>0</th>\n",
       "      <td>The Testaments</td>\n",
       "      <td>Margaret Atwood</td>\n",
       "      <td>4.20</td>\n",
       "    </tr>\n",
       "    <tr>\n",
       "      <th>1</th>\n",
       "      <td>Normal People</td>\n",
       "      <td>Sally Rooney</td>\n",
       "      <td>3.86</td>\n",
       "    </tr>\n",
       "    <tr>\n",
       "      <th>2</th>\n",
       "      <td>Where the Forest Meets the Stars</td>\n",
       "      <td>Glendy Vanderah</td>\n",
       "      <td>4.12</td>\n",
       "    </tr>\n",
       "    <tr>\n",
       "      <th>3</th>\n",
       "      <td>Ask Again, Yes</td>\n",
       "      <td>Mary Beth Keane</td>\n",
       "      <td>3.97</td>\n",
       "    </tr>\n",
       "    <tr>\n",
       "      <th>4</th>\n",
       "      <td>Queenie</td>\n",
       "      <td>Candice Carty-Williams</td>\n",
       "      <td>3.88</td>\n",
       "    </tr>\n",
       "  </tbody>\n",
       "</table>\n",
       "</div>"
      ],
      "text/plain": [
       "                              Title                  Author Rating\n",
       "0                    The Testaments         Margaret Atwood   4.20\n",
       "1                     Normal People            Sally Rooney   3.86\n",
       "2  Where the Forest Meets the Stars         Glendy Vanderah   4.12\n",
       "3                    Ask Again, Yes         Mary Beth Keane   3.97\n",
       "4                           Queenie  Candice Carty-Williams   3.88"
      ]
     },
     "execution_count": 11,
     "metadata": {},
     "output_type": "execute_result"
    }
   ],
   "source": [
    "T_A_R.head()"
   ]
  }
 ],
 "metadata": {
  "kernelspec": {
   "display_name": "Python 3",
   "language": "python",
   "name": "python3"
  },
  "language_info": {
   "codemirror_mode": {
    "name": "ipython",
    "version": 3
   },
   "file_extension": ".py",
   "mimetype": "text/x-python",
   "name": "python",
   "nbconvert_exporter": "python",
   "pygments_lexer": "ipython3",
   "version": "3.8.5"
  }
 },
 "nbformat": 4,
 "nbformat_minor": 4
}
