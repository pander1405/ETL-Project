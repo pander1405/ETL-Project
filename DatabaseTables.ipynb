{
 "cells": [
  {
   "cell_type": "code",
   "execution_count": 49,
   "metadata": {},
   "outputs": [],
   "source": [
    "# Dependencies\n",
    "import pandas as pd\n",
    "from sqlalchemy import create_engine"
   ]
  },
  {
   "cell_type": "code",
   "execution_count": 50,
   "metadata": {},
   "outputs": [],
   "source": [
    "# Store filepath in a variable\n",
    "goodreads_csv = 'Output/paul.csv'\n",
    "amazon_csv = 'Output/2019_Amazon-Best-Sellers_FullTable_AuthorNamesSplit.csv'"
   ]
  },
  {
   "cell_type": "code",
   "execution_count": 51,
   "metadata": {},
   "outputs": [
    {
     "data": {
      "text/plain": "   Unnamed: 0  First        Last  \\\n0           0   Bill  Martin Jr.   \n1           1    Dav      Pilkey   \n2           2    Dav      Pilkey   \n3           3    Dav      Pilkey   \n4           4  Giles     Andreae   \n\n                                          Book_Title  UserRating  Num_Reviews  \\\n0           Brown Bear, Brown Bear, What Do You See?         4.9        14344   \n1  Dog Man: Brawl of the Wild: From the Creator o...         4.9         7235   \n2  Dog Man: Fetch-22: From the Creator of Captain...         4.9        12619   \n3  Dog Man: For Whom the Ball Rolls: From the Cre...         4.9         9089   \n4                               Giraffes Can't Dance         4.8        14038   \n\n   Year    Genre  \n0  2019  Fiction  \n1  2019  Fiction  \n2  2019  Fiction  \n3  2019  Fiction  \n4  2019  Fiction  ",
      "text/html": "<div>\n<style scoped>\n    .dataframe tbody tr th:only-of-type {\n        vertical-align: middle;\n    }\n\n    .dataframe tbody tr th {\n        vertical-align: top;\n    }\n\n    .dataframe thead th {\n        text-align: right;\n    }\n</style>\n<table border=\"1\" class=\"dataframe\">\n  <thead>\n    <tr style=\"text-align: right;\">\n      <th></th>\n      <th>Unnamed: 0</th>\n      <th>First</th>\n      <th>Last</th>\n      <th>Book_Title</th>\n      <th>UserRating</th>\n      <th>Num_Reviews</th>\n      <th>Year</th>\n      <th>Genre</th>\n    </tr>\n  </thead>\n  <tbody>\n    <tr>\n      <th>0</th>\n      <td>0</td>\n      <td>Bill</td>\n      <td>Martin Jr.</td>\n      <td>Brown Bear, Brown Bear, What Do You See?</td>\n      <td>4.9</td>\n      <td>14344</td>\n      <td>2019</td>\n      <td>Fiction</td>\n    </tr>\n    <tr>\n      <th>1</th>\n      <td>1</td>\n      <td>Dav</td>\n      <td>Pilkey</td>\n      <td>Dog Man: Brawl of the Wild: From the Creator o...</td>\n      <td>4.9</td>\n      <td>7235</td>\n      <td>2019</td>\n      <td>Fiction</td>\n    </tr>\n    <tr>\n      <th>2</th>\n      <td>2</td>\n      <td>Dav</td>\n      <td>Pilkey</td>\n      <td>Dog Man: Fetch-22: From the Creator of Captain...</td>\n      <td>4.9</td>\n      <td>12619</td>\n      <td>2019</td>\n      <td>Fiction</td>\n    </tr>\n    <tr>\n      <th>3</th>\n      <td>3</td>\n      <td>Dav</td>\n      <td>Pilkey</td>\n      <td>Dog Man: For Whom the Ball Rolls: From the Cre...</td>\n      <td>4.9</td>\n      <td>9089</td>\n      <td>2019</td>\n      <td>Fiction</td>\n    </tr>\n    <tr>\n      <th>4</th>\n      <td>4</td>\n      <td>Giles</td>\n      <td>Andreae</td>\n      <td>Giraffes Can't Dance</td>\n      <td>4.8</td>\n      <td>14038</td>\n      <td>2019</td>\n      <td>Fiction</td>\n    </tr>\n  </tbody>\n</table>\n</div>"
     },
     "execution_count": 51,
     "metadata": {},
     "output_type": "execute_result"
    }
   ],
   "source": [
    "# Read our Data file with the pandas library\n",
    "goodreads_orig = pd.read_csv(goodreads_csv, encoding='ISO-8859-1')\n",
    "amazon_orig = pd.read_csv(amazon_csv, encoding='ISO-8859-1')\n",
    "amazon_orig.head()"
   ]
  },
  {
   "cell_type": "code",
   "execution_count": 52,
   "metadata": {},
   "outputs": [
    {
     "name": "stderr",
     "output_type": "stream",
     "text": [
      "C:\\Users\\blbst\\anaconda3\\envs\\PythonData\\lib\\site-packages\\ipykernel_launcher.py:4: SettingWithCopyWarning: \n",
      "A value is trying to be set on a copy of a slice from a DataFrame.\n",
      "Try using .loc[row_indexer,col_indexer] = value instead\n",
      "\n",
      "See the caveats in the documentation: https://pandas.pydata.org/pandas-docs/stable/user_guide/indexing.html#returning-a-view-versus-a-copy\n",
      "  after removing the cwd from sys.path.\n"
     ]
    },
    {
     "data": {
      "text/plain": "                                               Title  First        Last  \\\n0           Brown Bear, Brown Bear, What Do You See?   Bill  Martin Jr.   \n1  Dog Man: Brawl of the Wild: From the Creator o...    Dav      Pilkey   \n2  Dog Man: Fetch-22: From the Creator of Captain...    Dav      Pilkey   \n3  Dog Man: For Whom the Ball Rolls: From the Cre...    Dav      Pilkey   \n4                               Giraffes Can't Dance  Giles     Andreae   \n\n   Rating  source  \n0     4.9  Amazon  \n1     4.9  Amazon  \n2     4.9  Amazon  \n3     4.9  Amazon  \n4     4.8  Amazon  ",
      "text/html": "<div>\n<style scoped>\n    .dataframe tbody tr th:only-of-type {\n        vertical-align: middle;\n    }\n\n    .dataframe tbody tr th {\n        vertical-align: top;\n    }\n\n    .dataframe thead th {\n        text-align: right;\n    }\n</style>\n<table border=\"1\" class=\"dataframe\">\n  <thead>\n    <tr style=\"text-align: right;\">\n      <th></th>\n      <th>Title</th>\n      <th>First</th>\n      <th>Last</th>\n      <th>Rating</th>\n      <th>source</th>\n    </tr>\n  </thead>\n  <tbody>\n    <tr>\n      <th>0</th>\n      <td>Brown Bear, Brown Bear, What Do You See?</td>\n      <td>Bill</td>\n      <td>Martin Jr.</td>\n      <td>4.9</td>\n      <td>Amazon</td>\n    </tr>\n    <tr>\n      <th>1</th>\n      <td>Dog Man: Brawl of the Wild: From the Creator o...</td>\n      <td>Dav</td>\n      <td>Pilkey</td>\n      <td>4.9</td>\n      <td>Amazon</td>\n    </tr>\n    <tr>\n      <th>2</th>\n      <td>Dog Man: Fetch-22: From the Creator of Captain...</td>\n      <td>Dav</td>\n      <td>Pilkey</td>\n      <td>4.9</td>\n      <td>Amazon</td>\n    </tr>\n    <tr>\n      <th>3</th>\n      <td>Dog Man: For Whom the Ball Rolls: From the Cre...</td>\n      <td>Dav</td>\n      <td>Pilkey</td>\n      <td>4.9</td>\n      <td>Amazon</td>\n    </tr>\n    <tr>\n      <th>4</th>\n      <td>Giraffes Can't Dance</td>\n      <td>Giles</td>\n      <td>Andreae</td>\n      <td>4.8</td>\n      <td>Amazon</td>\n    </tr>\n  </tbody>\n</table>\n</div>"
     },
     "execution_count": 52,
     "metadata": {},
     "output_type": "execute_result"
    }
   ],
   "source": [
    "# get only relevant columns from amazon and rename columns\n",
    "goodreads_orig.head()\n",
    "amazon = amazon_orig[['Book_Title', 'First', 'Last','UserRating']]\n",
    "amazon['source'] = 'Amazon'\n",
    "\n",
    "amazon = amazon.rename(columns={'Book_Title': 'Title', 'UserRating': 'Rating'})\n",
    "amazon.head()"
   ]
  },
  {
   "cell_type": "code",
   "execution_count": 53,
   "metadata": {},
   "outputs": [
    {
     "data": {
      "text/plain": "                              Title                  Author  Rating  \\\n0                    The Testaments         Margaret Atwood    4.20   \n1                     Normal People            Sally Rooney    3.86   \n2  Where the Forest Meets the Stars         Glendy Vanderah    4.12   \n3                    Ask Again, Yes         Mary-Beth Keane    3.97   \n4                           Queenie  Candice Carty-Williams    3.88   \n\n       First            Last  \n0   Margaret          Atwood  \n1      Sally          Rooney  \n2     Glendy        Vanderah  \n3  Mary-Beth           Keane  \n4    Candice  Carty-Williams  ",
      "text/html": "<div>\n<style scoped>\n    .dataframe tbody tr th:only-of-type {\n        vertical-align: middle;\n    }\n\n    .dataframe tbody tr th {\n        vertical-align: top;\n    }\n\n    .dataframe thead th {\n        text-align: right;\n    }\n</style>\n<table border=\"1\" class=\"dataframe\">\n  <thead>\n    <tr style=\"text-align: right;\">\n      <th></th>\n      <th>Title</th>\n      <th>Author</th>\n      <th>Rating</th>\n      <th>First</th>\n      <th>Last</th>\n    </tr>\n  </thead>\n  <tbody>\n    <tr>\n      <th>0</th>\n      <td>The Testaments</td>\n      <td>Margaret Atwood</td>\n      <td>4.20</td>\n      <td>Margaret</td>\n      <td>Atwood</td>\n    </tr>\n    <tr>\n      <th>1</th>\n      <td>Normal People</td>\n      <td>Sally Rooney</td>\n      <td>3.86</td>\n      <td>Sally</td>\n      <td>Rooney</td>\n    </tr>\n    <tr>\n      <th>2</th>\n      <td>Where the Forest Meets the Stars</td>\n      <td>Glendy Vanderah</td>\n      <td>4.12</td>\n      <td>Glendy</td>\n      <td>Vanderah</td>\n    </tr>\n    <tr>\n      <th>3</th>\n      <td>Ask Again, Yes</td>\n      <td>Mary-Beth Keane</td>\n      <td>3.97</td>\n      <td>Mary-Beth</td>\n      <td>Keane</td>\n    </tr>\n    <tr>\n      <th>4</th>\n      <td>Queenie</td>\n      <td>Candice Carty-Williams</td>\n      <td>3.88</td>\n      <td>Candice</td>\n      <td>Carty-Williams</td>\n    </tr>\n  </tbody>\n</table>\n</div>"
     },
     "execution_count": 53,
     "metadata": {},
     "output_type": "execute_result"
    }
   ],
   "source": [
    "# preserve original dataframe, then split the author name.  Grab only relevant columns\n",
    "goodreads = goodreads_orig.copy()\n",
    "# Added dash to name to assist with splitting first and last\n",
    "goodreads.at[3,'Author'] = 'Mary-Beth Keane'\n",
    "goodreads[['First','Last']] = goodreads.Author.str.split(expand=True)\n",
    "goodreads_drop = goodreads[['Title', 'First', 'Last', 'Rating']]\n",
    "goodreads_drop['source'] = 'Goodreads'\n",
    "\n",
    "goodreads.head()"
   ]
  },
  {
   "cell_type": "code",
   "execution_count": 54,
   "outputs": [
    {
     "data": {
      "text/plain": "                              Title      First            Last  Rating  \\\n0                    The Testaments   Margaret          Atwood    4.20   \n1                     Normal People      Sally          Rooney    3.86   \n2  Where the Forest Meets the Stars     Glendy        Vanderah    4.12   \n3                    Ask Again, Yes  Mary-Beth           Keane    3.97   \n4                           Queenie    Candice  Carty-Williams    3.88   \n\n      source  \n0  Goodreads  \n1  Goodreads  \n2  Goodreads  \n3  Goodreads  \n4  Goodreads  ",
      "text/html": "<div>\n<style scoped>\n    .dataframe tbody tr th:only-of-type {\n        vertical-align: middle;\n    }\n\n    .dataframe tbody tr th {\n        vertical-align: top;\n    }\n\n    .dataframe thead th {\n        text-align: right;\n    }\n</style>\n<table border=\"1\" class=\"dataframe\">\n  <thead>\n    <tr style=\"text-align: right;\">\n      <th></th>\n      <th>Title</th>\n      <th>First</th>\n      <th>Last</th>\n      <th>Rating</th>\n      <th>source</th>\n    </tr>\n  </thead>\n  <tbody>\n    <tr>\n      <th>0</th>\n      <td>The Testaments</td>\n      <td>Margaret</td>\n      <td>Atwood</td>\n      <td>4.20</td>\n      <td>Goodreads</td>\n    </tr>\n    <tr>\n      <th>1</th>\n      <td>Normal People</td>\n      <td>Sally</td>\n      <td>Rooney</td>\n      <td>3.86</td>\n      <td>Goodreads</td>\n    </tr>\n    <tr>\n      <th>2</th>\n      <td>Where the Forest Meets the Stars</td>\n      <td>Glendy</td>\n      <td>Vanderah</td>\n      <td>4.12</td>\n      <td>Goodreads</td>\n    </tr>\n    <tr>\n      <th>3</th>\n      <td>Ask Again, Yes</td>\n      <td>Mary-Beth</td>\n      <td>Keane</td>\n      <td>3.97</td>\n      <td>Goodreads</td>\n    </tr>\n    <tr>\n      <th>4</th>\n      <td>Queenie</td>\n      <td>Candice</td>\n      <td>Carty-Williams</td>\n      <td>3.88</td>\n      <td>Goodreads</td>\n    </tr>\n  </tbody>\n</table>\n</div>"
     },
     "execution_count": 54,
     "metadata": {},
     "output_type": "execute_result"
    }
   ],
   "source": [
    "# Add two dataframes together\n",
    "total = goodreads_drop.copy()\n",
    "total = total.append(amazon)\n",
    "\n",
    "total.head()"
   ],
   "metadata": {
    "collapsed": false,
    "pycharm": {
     "name": "#%%\n"
    }
   }
  },
  {
   "cell_type": "code",
   "execution_count": 55,
   "metadata": {},
   "outputs": [
    {
     "data": {
      "text/plain": "   author_id first_name        last_name\n0          0     AndrÃ©           Aciman\n1          1      Giles          Andreae\n2          2   Margaret           Atwood\n3          3      Taffy  Brodesser-Akner\n4          4       Eric            Carle",
      "text/html": "<div>\n<style scoped>\n    .dataframe tbody tr th:only-of-type {\n        vertical-align: middle;\n    }\n\n    .dataframe tbody tr th {\n        vertical-align: top;\n    }\n\n    .dataframe thead th {\n        text-align: right;\n    }\n</style>\n<table border=\"1\" class=\"dataframe\">\n  <thead>\n    <tr style=\"text-align: right;\">\n      <th></th>\n      <th>author_id</th>\n      <th>first_name</th>\n      <th>last_name</th>\n    </tr>\n  </thead>\n  <tbody>\n    <tr>\n      <th>0</th>\n      <td>0</td>\n      <td>AndrÃ©</td>\n      <td>Aciman</td>\n    </tr>\n    <tr>\n      <th>1</th>\n      <td>1</td>\n      <td>Giles</td>\n      <td>Andreae</td>\n    </tr>\n    <tr>\n      <th>2</th>\n      <td>2</td>\n      <td>Margaret</td>\n      <td>Atwood</td>\n    </tr>\n    <tr>\n      <th>3</th>\n      <td>3</td>\n      <td>Taffy</td>\n      <td>Brodesser-Akner</td>\n    </tr>\n    <tr>\n      <th>4</th>\n      <td>4</td>\n      <td>Eric</td>\n      <td>Carle</td>\n    </tr>\n  </tbody>\n</table>\n</div>"
     },
     "execution_count": 55,
     "metadata": {},
     "output_type": "execute_result"
    }
   ],
   "source": [
    "# create author table/dataframe using the index as a PK\n",
    "author = pd.DataFrame(total.groupby(['Last','First']).count())\n",
    "author = author.reset_index()\n",
    "author_final = author[['First', 'Last']]\n",
    "author_final = author_final.reset_index()\n",
    "author_final = author_final.rename(columns={'index': 'author_id', 'First': 'first_name', 'Last': 'last_name'})\n",
    "author_final.head()\n"
   ]
  },
  {
   "cell_type": "code",
   "execution_count": 56,
   "outputs": [
    {
     "data": {
      "text/plain": "   book_id                             title  author_fk\n0        0                    The Testaments          2\n1        1                     Normal People         25\n2        2  Where the Forest Meets the Stars         31\n3        3                    Ask Again, Yes         13\n4        4                           Queenie          5",
      "text/html": "<div>\n<style scoped>\n    .dataframe tbody tr th:only-of-type {\n        vertical-align: middle;\n    }\n\n    .dataframe tbody tr th {\n        vertical-align: top;\n    }\n\n    .dataframe thead th {\n        text-align: right;\n    }\n</style>\n<table border=\"1\" class=\"dataframe\">\n  <thead>\n    <tr style=\"text-align: right;\">\n      <th></th>\n      <th>book_id</th>\n      <th>title</th>\n      <th>author_fk</th>\n    </tr>\n  </thead>\n  <tbody>\n    <tr>\n      <th>0</th>\n      <td>0</td>\n      <td>The Testaments</td>\n      <td>2</td>\n    </tr>\n    <tr>\n      <th>1</th>\n      <td>1</td>\n      <td>Normal People</td>\n      <td>25</td>\n    </tr>\n    <tr>\n      <th>2</th>\n      <td>2</td>\n      <td>Where the Forest Meets the Stars</td>\n      <td>31</td>\n    </tr>\n    <tr>\n      <th>3</th>\n      <td>3</td>\n      <td>Ask Again, Yes</td>\n      <td>13</td>\n    </tr>\n    <tr>\n      <th>4</th>\n      <td>4</td>\n      <td>Queenie</td>\n      <td>5</td>\n    </tr>\n  </tbody>\n</table>\n</div>"
     },
     "execution_count": 56,
     "metadata": {},
     "output_type": "execute_result"
    }
   ],
   "source": [
    "# find the author's last name and replace with the author PK number\n",
    "books = total.copy()\n",
    "for name in author_final.index:\n",
    "    books = books.replace(to_replace=author_final.iloc[name]['last_name'], value=author_final.loc[name]['author_id'])\n",
    "\n",
    "# Finish finageling the books table/dataframe using the index as a PK\n",
    "books_final = books[['Title', 'Last']]\n",
    "books_final = books_final.reset_index(drop=True)\n",
    "books_final = books_final.reset_index()\n",
    "books_final = books_final.rename(columns={'index': 'book_id', 'Title': 'title','Last': 'author_fk'})\n",
    "books_final.head()"
   ],
   "metadata": {
    "collapsed": false,
    "pycharm": {
     "name": "#%%\n"
    }
   }
  },
  {
   "cell_type": "code",
   "execution_count": 57,
   "outputs": [
    {
     "data": {
      "text/plain": "   source_id     source_name         type\n0          0       Goodreads  User Rating\n1          1          Amazon  User Rating\n2          2  New York Times   Bestseller",
      "text/html": "<div>\n<style scoped>\n    .dataframe tbody tr th:only-of-type {\n        vertical-align: middle;\n    }\n\n    .dataframe tbody tr th {\n        vertical-align: top;\n    }\n\n    .dataframe thead th {\n        text-align: right;\n    }\n</style>\n<table border=\"1\" class=\"dataframe\">\n  <thead>\n    <tr style=\"text-align: right;\">\n      <th></th>\n      <th>source_id</th>\n      <th>source_name</th>\n      <th>type</th>\n    </tr>\n  </thead>\n  <tbody>\n    <tr>\n      <th>0</th>\n      <td>0</td>\n      <td>Goodreads</td>\n      <td>User Rating</td>\n    </tr>\n    <tr>\n      <th>1</th>\n      <td>1</td>\n      <td>Amazon</td>\n      <td>User Rating</td>\n    </tr>\n    <tr>\n      <th>2</th>\n      <td>2</td>\n      <td>New York Times</td>\n      <td>Bestseller</td>\n    </tr>\n  </tbody>\n</table>\n</div>"
     },
     "execution_count": 57,
     "metadata": {},
     "output_type": "execute_result"
    }
   ],
   "source": [
    "# Create source table/dataframe\n",
    "source = pd.DataFrame()\n",
    "source['source_name'] = ['Goodreads', 'Amazon','New York Times']\n",
    "source['type'] = ['User Rating', 'User Rating', 'Bestseller']\n",
    "source_final = source.reset_index()\n",
    "source_final = source_final.rename(columns={'index': 'source_id'})\n",
    "\n",
    "source_final.head()"
   ],
   "metadata": {
    "collapsed": false,
    "pycharm": {
     "name": "#%%\n"
    }
   }
  },
  {
   "cell_type": "code",
   "execution_count": 58,
   "outputs": [
    {
     "data": {
      "text/plain": "   review_id  book_fk  rating  source_fk\n0          0        0    4.20          0\n1          1        1    3.86          0\n2          2        2    4.12          0\n3          3        3    3.97          0\n4          4        4    3.88          0",
      "text/html": "<div>\n<style scoped>\n    .dataframe tbody tr th:only-of-type {\n        vertical-align: middle;\n    }\n\n    .dataframe tbody tr th {\n        vertical-align: top;\n    }\n\n    .dataframe thead th {\n        text-align: right;\n    }\n</style>\n<table border=\"1\" class=\"dataframe\">\n  <thead>\n    <tr style=\"text-align: right;\">\n      <th></th>\n      <th>review_id</th>\n      <th>book_fk</th>\n      <th>rating</th>\n      <th>source_fk</th>\n    </tr>\n  </thead>\n  <tbody>\n    <tr>\n      <th>0</th>\n      <td>0</td>\n      <td>0</td>\n      <td>4.20</td>\n      <td>0</td>\n    </tr>\n    <tr>\n      <th>1</th>\n      <td>1</td>\n      <td>1</td>\n      <td>3.86</td>\n      <td>0</td>\n    </tr>\n    <tr>\n      <th>2</th>\n      <td>2</td>\n      <td>2</td>\n      <td>4.12</td>\n      <td>0</td>\n    </tr>\n    <tr>\n      <th>3</th>\n      <td>3</td>\n      <td>3</td>\n      <td>3.97</td>\n      <td>0</td>\n    </tr>\n    <tr>\n      <th>4</th>\n      <td>4</td>\n      <td>4</td>\n      <td>3.88</td>\n      <td>0</td>\n    </tr>\n  </tbody>\n</table>\n</div>"
     },
     "execution_count": 58,
     "metadata": {},
     "output_type": "execute_result"
    }
   ],
   "source": [
    "# Create review table/dataframe.  Replace source and title with ids\n",
    "review = total.copy()\n",
    "for name in source_final.index:\n",
    "    review = review.replace(to_replace=source_final.iloc[name]['source_name'], value=source_final.loc[name]['source_id'])\n",
    "\n",
    "for name in books_final.index:\n",
    "     review = review.replace(to_replace=books_final.iloc[name]['title'], value=books_final.loc[name]['book_id'])\n",
    "review_final = review[['Title', 'Rating', 'source']]\n",
    "review_final = review_final.reset_index(drop=True)\n",
    "review_final = review_final.reset_index()\n",
    "review_final = review_final.rename(columns={'index': 'review_id','Title': 'book_fk','source': 'source_fk', 'Rating': 'rating'})\n",
    "review_final.head()\n"
   ],
   "metadata": {
    "collapsed": false,
    "pycharm": {
     "name": "#%%\n"
    }
   }
  },
  {
   "cell_type": "code",
   "execution_count": 59,
   "metadata": {},
   "outputs": [],
   "source": [
    "# enter password for postgres\n",
    "rds_connection_string = \"postgres:<PASSWORD HERE>s@localhost:5432/ETL_Project\"\n",
    "engine = create_engine(f'postgresql://{rds_connection_string}')\n",
    "\n"
   ]
  },
  {
   "cell_type": "code",
   "execution_count": 61,
   "outputs": [],
   "source": [
    "# Add data to empty tables.\n",
    "author_final.to_sql(name='author', con=engine, if_exists='append', index=False)\n",
    "books_final.to_sql(name='book', con=engine, if_exists='append', index=False)\n",
    "source_final.to_sql(name='source', con=engine, if_exists='append', index=False)\n",
    "review_final.to_sql(name='review', con=engine, if_exists='append', index=False)"
   ],
   "metadata": {
    "collapsed": false,
    "pycharm": {
     "name": "#%%\n"
    }
   }
  }
 ],
 "metadata": {
  "anaconda-cloud": {},
  "kernelspec": {
   "name": "conda-env-PythonData-py",
   "language": "python",
   "display_name": "Python [conda env:PythonData] *"
  },
  "language_info": {
   "codemirror_mode": {
    "name": "ipython",
    "version": 3
   },
   "file_extension": ".py",
   "mimetype": "text/x-python",
   "name": "python",
   "nbconvert_exporter": "python",
   "pygments_lexer": "ipython3",
   "version": "3.6.10"
  }
 },
 "nbformat": 4,
 "nbformat_minor": 2
}