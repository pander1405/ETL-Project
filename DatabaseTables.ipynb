{
 "cells": [
  {
   "cell_type": "code",
   "execution_count": 215,
   "metadata": {},
   "outputs": [],
   "source": [
    "# Dependencies\n",
    "import pandas as pd\n",
    "from sqlalchemy import create_engine"
   ]
  },
  {
   "cell_type": "code",
   "execution_count": 216,
   "metadata": {},
   "outputs": [],
   "source": [
    "# Store filepath in a variable\n",
    "goodreads_csv = 'Output/paul.csv'\n",
    "amazon_csv = 'Output/2019_Amazon-Best-Sellers_Author-BookTitles.csv'"
   ]
  },
  {
   "cell_type": "code",
   "execution_count": 217,
   "metadata": {},
   "outputs": [
    {
     "data": {
      "text/plain": "   Unnamed: 0  First        Last  \\\n0           0   Bill  Martin Jr.   \n1           1    Dav      Pilkey   \n2           2    Dav      Pilkey   \n3           3    Dav      Pilkey   \n4           4  Giles     Andreae   \n\n                                          Book_Title  \n0           Brown Bear, Brown Bear, What Do You See?  \n1  Dog Man: Brawl of the Wild: From the Creator o...  \n2  Dog Man: Fetch-22: From the Creator of Captain...  \n3  Dog Man: For Whom the Ball Rolls: From the Cre...  \n4                               Giraffes Can't Dance  ",
      "text/html": "<div>\n<style scoped>\n    .dataframe tbody tr th:only-of-type {\n        vertical-align: middle;\n    }\n\n    .dataframe tbody tr th {\n        vertical-align: top;\n    }\n\n    .dataframe thead th {\n        text-align: right;\n    }\n</style>\n<table border=\"1\" class=\"dataframe\">\n  <thead>\n    <tr style=\"text-align: right;\">\n      <th></th>\n      <th>Unnamed: 0</th>\n      <th>First</th>\n      <th>Last</th>\n      <th>Book_Title</th>\n    </tr>\n  </thead>\n  <tbody>\n    <tr>\n      <th>0</th>\n      <td>0</td>\n      <td>Bill</td>\n      <td>Martin Jr.</td>\n      <td>Brown Bear, Brown Bear, What Do You See?</td>\n    </tr>\n    <tr>\n      <th>1</th>\n      <td>1</td>\n      <td>Dav</td>\n      <td>Pilkey</td>\n      <td>Dog Man: Brawl of the Wild: From the Creator o...</td>\n    </tr>\n    <tr>\n      <th>2</th>\n      <td>2</td>\n      <td>Dav</td>\n      <td>Pilkey</td>\n      <td>Dog Man: Fetch-22: From the Creator of Captain...</td>\n    </tr>\n    <tr>\n      <th>3</th>\n      <td>3</td>\n      <td>Dav</td>\n      <td>Pilkey</td>\n      <td>Dog Man: For Whom the Ball Rolls: From the Cre...</td>\n    </tr>\n    <tr>\n      <th>4</th>\n      <td>4</td>\n      <td>Giles</td>\n      <td>Andreae</td>\n      <td>Giraffes Can't Dance</td>\n    </tr>\n  </tbody>\n</table>\n</div>"
     },
     "execution_count": 217,
     "metadata": {},
     "output_type": "execute_result"
    }
   ],
   "source": [
    "# Read our Data file with the pandas library\n",
    "# Not every CSV requires an encoding, but be aware this can come up\n",
    "goodreads_orig = pd.read_csv(goodreads_csv, encoding='ISO-8859-1')\n",
    "amazon_orig = pd.read_csv(amazon_csv, encoding='ISO-8859-1')\n",
    "amazon_orig.head()"
   ]
  },
  {
   "cell_type": "code",
   "execution_count": 218,
   "metadata": {},
   "outputs": [
    {
     "data": {
      "text/plain": "                                               Title  First        Last  \\\n0           Brown Bear, Brown Bear, What Do You See?   Bill  Martin Jr.   \n1  Dog Man: Brawl of the Wild: From the Creator o...    Dav      Pilkey   \n2  Dog Man: Fetch-22: From the Creator of Captain...    Dav      Pilkey   \n3  Dog Man: For Whom the Ball Rolls: From the Cre...    Dav      Pilkey   \n4                               Giraffes Can't Dance  Giles     Andreae   \n\n   Rating  source  \n0       0  Amazon  \n1       0  Amazon  \n2       0  Amazon  \n3       0  Amazon  \n4       0  Amazon  ",
      "text/html": "<div>\n<style scoped>\n    .dataframe tbody tr th:only-of-type {\n        vertical-align: middle;\n    }\n\n    .dataframe tbody tr th {\n        vertical-align: top;\n    }\n\n    .dataframe thead th {\n        text-align: right;\n    }\n</style>\n<table border=\"1\" class=\"dataframe\">\n  <thead>\n    <tr style=\"text-align: right;\">\n      <th></th>\n      <th>Title</th>\n      <th>First</th>\n      <th>Last</th>\n      <th>Rating</th>\n      <th>source</th>\n    </tr>\n  </thead>\n  <tbody>\n    <tr>\n      <th>0</th>\n      <td>Brown Bear, Brown Bear, What Do You See?</td>\n      <td>Bill</td>\n      <td>Martin Jr.</td>\n      <td>0</td>\n      <td>Amazon</td>\n    </tr>\n    <tr>\n      <th>1</th>\n      <td>Dog Man: Brawl of the Wild: From the Creator o...</td>\n      <td>Dav</td>\n      <td>Pilkey</td>\n      <td>0</td>\n      <td>Amazon</td>\n    </tr>\n    <tr>\n      <th>2</th>\n      <td>Dog Man: Fetch-22: From the Creator of Captain...</td>\n      <td>Dav</td>\n      <td>Pilkey</td>\n      <td>0</td>\n      <td>Amazon</td>\n    </tr>\n    <tr>\n      <th>3</th>\n      <td>Dog Man: For Whom the Ball Rolls: From the Cre...</td>\n      <td>Dav</td>\n      <td>Pilkey</td>\n      <td>0</td>\n      <td>Amazon</td>\n    </tr>\n    <tr>\n      <th>4</th>\n      <td>Giraffes Can't Dance</td>\n      <td>Giles</td>\n      <td>Andreae</td>\n      <td>0</td>\n      <td>Amazon</td>\n    </tr>\n  </tbody>\n</table>\n</div>"
     },
     "execution_count": 218,
     "metadata": {},
     "output_type": "execute_result"
    }
   ],
   "source": [
    "# Show just the header\n",
    "goodreads_orig.head()\n",
    "amazon = amazon_orig[['Book_Title', 'First', 'Last']]\n",
    "amazon['Rating'] = 0\n",
    "amazon['source'] = 'Amazon'\n",
    "\n",
    "amazon = amazon.rename(columns={'Book_Title': 'Title'})\n",
    "amazon.head()"
   ]
  },
  {
   "cell_type": "code",
   "execution_count": 219,
   "metadata": {},
   "outputs": [
    {
     "data": {
      "text/plain": "                              Title      First            Last  Rating  \\\n0                    The Testaments   Margaret          Atwood    4.20   \n1                     Normal People      Sally          Rooney    3.86   \n2  Where the Forest Meets the Stars     Glendy        Vanderah    4.12   \n3                    Ask Again, Yes  Mary-Beth           Keane    3.97   \n4                           Queenie    Candice  Carty-Williams    3.88   \n\n      source  \n0  Goodreads  \n1  Goodreads  \n2  Goodreads  \n3  Goodreads  \n4  Goodreads  ",
      "text/html": "<div>\n<style scoped>\n    .dataframe tbody tr th:only-of-type {\n        vertical-align: middle;\n    }\n\n    .dataframe tbody tr th {\n        vertical-align: top;\n    }\n\n    .dataframe thead th {\n        text-align: right;\n    }\n</style>\n<table border=\"1\" class=\"dataframe\">\n  <thead>\n    <tr style=\"text-align: right;\">\n      <th></th>\n      <th>Title</th>\n      <th>First</th>\n      <th>Last</th>\n      <th>Rating</th>\n      <th>source</th>\n    </tr>\n  </thead>\n  <tbody>\n    <tr>\n      <th>0</th>\n      <td>The Testaments</td>\n      <td>Margaret</td>\n      <td>Atwood</td>\n      <td>4.20</td>\n      <td>Goodreads</td>\n    </tr>\n    <tr>\n      <th>1</th>\n      <td>Normal People</td>\n      <td>Sally</td>\n      <td>Rooney</td>\n      <td>3.86</td>\n      <td>Goodreads</td>\n    </tr>\n    <tr>\n      <th>2</th>\n      <td>Where the Forest Meets the Stars</td>\n      <td>Glendy</td>\n      <td>Vanderah</td>\n      <td>4.12</td>\n      <td>Goodreads</td>\n    </tr>\n    <tr>\n      <th>3</th>\n      <td>Ask Again, Yes</td>\n      <td>Mary-Beth</td>\n      <td>Keane</td>\n      <td>3.97</td>\n      <td>Goodreads</td>\n    </tr>\n    <tr>\n      <th>4</th>\n      <td>Queenie</td>\n      <td>Candice</td>\n      <td>Carty-Williams</td>\n      <td>3.88</td>\n      <td>Goodreads</td>\n    </tr>\n  </tbody>\n</table>\n</div>"
     },
     "execution_count": 219,
     "metadata": {},
     "output_type": "execute_result"
    }
   ],
   "source": [
    "goodreads = goodreads_orig.copy()\n",
    "goodreads.at[3,'Author'] = 'Mary-Beth Keane'\n",
    "goodreads[['First','Last']] = goodreads.Author.str.split(expand=True)\n",
    "goodreads_drop = goodreads[['Title', 'First', 'Last', 'Rating']]\n",
    "goodreads_drop['source'] = 'Goodreads'\n",
    "total = goodreads_drop.copy()\n",
    "total = total.append(amazon)\n",
    "\n",
    "total.head()"
   ]
  },
  {
   "cell_type": "code",
   "execution_count": 220,
   "metadata": {},
   "outputs": [
    {
     "data": {
      "text/plain": "   author_id first_name        last_name\n0          0     AndrÃ©           Aciman\n1          1      Giles          Andreae\n2          2   Margaret           Atwood\n3          3      Taffy  Brodesser-Akner\n4          4       Eric            Carle",
      "text/html": "<div>\n<style scoped>\n    .dataframe tbody tr th:only-of-type {\n        vertical-align: middle;\n    }\n\n    .dataframe tbody tr th {\n        vertical-align: top;\n    }\n\n    .dataframe thead th {\n        text-align: right;\n    }\n</style>\n<table border=\"1\" class=\"dataframe\">\n  <thead>\n    <tr style=\"text-align: right;\">\n      <th></th>\n      <th>author_id</th>\n      <th>first_name</th>\n      <th>last_name</th>\n    </tr>\n  </thead>\n  <tbody>\n    <tr>\n      <th>0</th>\n      <td>0</td>\n      <td>AndrÃ©</td>\n      <td>Aciman</td>\n    </tr>\n    <tr>\n      <th>1</th>\n      <td>1</td>\n      <td>Giles</td>\n      <td>Andreae</td>\n    </tr>\n    <tr>\n      <th>2</th>\n      <td>2</td>\n      <td>Margaret</td>\n      <td>Atwood</td>\n    </tr>\n    <tr>\n      <th>3</th>\n      <td>3</td>\n      <td>Taffy</td>\n      <td>Brodesser-Akner</td>\n    </tr>\n    <tr>\n      <th>4</th>\n      <td>4</td>\n      <td>Eric</td>\n      <td>Carle</td>\n    </tr>\n  </tbody>\n</table>\n</div>"
     },
     "execution_count": 220,
     "metadata": {},
     "output_type": "execute_result"
    }
   ],
   "source": [
    "# Show mulitple specific columns--note the extra brackets\n",
    "author = pd.DataFrame(total.groupby(['Last','First']).count())\n",
    "author = author.reset_index()\n",
    "author_final = author[['First', 'Last']]\n",
    "author_final = author_final.reset_index()\n",
    "author_final = author_final.rename(columns={'index': 'author_id', 'First': 'first_name', 'Last': 'last_name'})\n",
    "author_final.head()\n"
   ]
  },
  {
   "cell_type": "code",
   "execution_count": 221,
   "outputs": [
    {
     "data": {
      "text/plain": "   book_id                             title  author_fk\n0        0                    The Testaments          2\n1        1                     Normal People         25\n2        2  Where the Forest Meets the Stars         31\n3        3                    Ask Again, Yes         13\n4        4                           Queenie          5",
      "text/html": "<div>\n<style scoped>\n    .dataframe tbody tr th:only-of-type {\n        vertical-align: middle;\n    }\n\n    .dataframe tbody tr th {\n        vertical-align: top;\n    }\n\n    .dataframe thead th {\n        text-align: right;\n    }\n</style>\n<table border=\"1\" class=\"dataframe\">\n  <thead>\n    <tr style=\"text-align: right;\">\n      <th></th>\n      <th>book_id</th>\n      <th>title</th>\n      <th>author_fk</th>\n    </tr>\n  </thead>\n  <tbody>\n    <tr>\n      <th>0</th>\n      <td>0</td>\n      <td>The Testaments</td>\n      <td>2</td>\n    </tr>\n    <tr>\n      <th>1</th>\n      <td>1</td>\n      <td>Normal People</td>\n      <td>25</td>\n    </tr>\n    <tr>\n      <th>2</th>\n      <td>2</td>\n      <td>Where the Forest Meets the Stars</td>\n      <td>31</td>\n    </tr>\n    <tr>\n      <th>3</th>\n      <td>3</td>\n      <td>Ask Again, Yes</td>\n      <td>13</td>\n    </tr>\n    <tr>\n      <th>4</th>\n      <td>4</td>\n      <td>Queenie</td>\n      <td>5</td>\n    </tr>\n  </tbody>\n</table>\n</div>"
     },
     "execution_count": 221,
     "metadata": {},
     "output_type": "execute_result"
    }
   ],
   "source": [
    "# Test replace\n",
    "books = total.copy()\n",
    "for name in author_final.index:\n",
    "    books = books.replace(to_replace=author_final.iloc[name]['last_name'], value=author_final.loc[name]['author_id'])\n",
    "\n",
    "\n",
    "books_final = books[['Title', 'Last']]\n",
    "books_final = books_final.reset_index(drop=True)\n",
    "books_final = books_final.reset_index()\n",
    "books_final = books_final.rename(columns={'index': 'book_id', 'Title': 'title','Last': 'author_fk'})\n",
    "books_final.head()"
   ],
   "metadata": {
    "collapsed": false,
    "pycharm": {
     "name": "#%%\n"
    }
   }
  },
  {
   "cell_type": "code",
   "execution_count": 222,
   "outputs": [
    {
     "data": {
      "text/plain": "   source_id     source_name         type\n0          0       Goodreads  User Rating\n1          1          Amazon  User Rating\n2          2  New York Times   Bestseller",
      "text/html": "<div>\n<style scoped>\n    .dataframe tbody tr th:only-of-type {\n        vertical-align: middle;\n    }\n\n    .dataframe tbody tr th {\n        vertical-align: top;\n    }\n\n    .dataframe thead th {\n        text-align: right;\n    }\n</style>\n<table border=\"1\" class=\"dataframe\">\n  <thead>\n    <tr style=\"text-align: right;\">\n      <th></th>\n      <th>source_id</th>\n      <th>source_name</th>\n      <th>type</th>\n    </tr>\n  </thead>\n  <tbody>\n    <tr>\n      <th>0</th>\n      <td>0</td>\n      <td>Goodreads</td>\n      <td>User Rating</td>\n    </tr>\n    <tr>\n      <th>1</th>\n      <td>1</td>\n      <td>Amazon</td>\n      <td>User Rating</td>\n    </tr>\n    <tr>\n      <th>2</th>\n      <td>2</td>\n      <td>New York Times</td>\n      <td>Bestseller</td>\n    </tr>\n  </tbody>\n</table>\n</div>"
     },
     "execution_count": 222,
     "metadata": {},
     "output_type": "execute_result"
    }
   ],
   "source": [
    "source = pd.DataFrame()\n",
    "source['source_name'] = ['Goodreads', 'Amazon','New York Times']\n",
    "source['type'] = ['User Rating', 'User Rating', 'Bestseller']\n",
    "source_final = source.reset_index()\n",
    "source_final = source_final.rename(columns={'index': 'source_id'})\n",
    "\n",
    "source_final.head()"
   ],
   "metadata": {
    "collapsed": false,
    "pycharm": {
     "name": "#%%\n"
    }
   }
  },
  {
   "cell_type": "code",
   "execution_count": 223,
   "outputs": [
    {
     "data": {
      "text/plain": "    review_id  book_fk  rating  source_fk\n0           0        0    4.20          0\n1           1        1    3.86          0\n2           2        2    4.12          0\n3           3        3    3.97          0\n4           4        4    3.88          0\n5           5        5    4.04          0\n6           6        6    4.25          0\n7           7        7    3.82          0\n8           8        8    4.11          0\n9           9        9    3.96          0\n10         10       10    3.83          0\n11         11       11    3.74          0\n12         12       12    4.01          0\n13         13       13    4.04          0\n14         14       14    3.73          0\n15         15       15    3.65          0\n16         16       16    3.32          0\n17         17       17    4.00          0\n18         18       18    4.40          0\n19         19       19    4.06          0\n20         20       20    0.00          1\n21         21       21    0.00          1\n22         22       22    0.00          1\n23         23       23    0.00          1\n24         24       24    0.00          1\n25         25       25    0.00          1\n26         26       26    0.00          1\n27         27       27    0.00          1\n28         28       28    0.00          1\n29         29       29    0.00          1\n30         30       30    0.00          1\n31         31       31    0.00          1\n32         32       32    0.00          1\n33         33       33    0.00          1\n34         34       34    0.00          1\n35         35       35    0.00          1\n36         36       36    0.00          1\n37         37       37    0.00          1\n38         38       38    0.00          1\n39         39       39    0.00          1",
      "text/html": "<div>\n<style scoped>\n    .dataframe tbody tr th:only-of-type {\n        vertical-align: middle;\n    }\n\n    .dataframe tbody tr th {\n        vertical-align: top;\n    }\n\n    .dataframe thead th {\n        text-align: right;\n    }\n</style>\n<table border=\"1\" class=\"dataframe\">\n  <thead>\n    <tr style=\"text-align: right;\">\n      <th></th>\n      <th>review_id</th>\n      <th>book_fk</th>\n      <th>rating</th>\n      <th>source_fk</th>\n    </tr>\n  </thead>\n  <tbody>\n    <tr>\n      <th>0</th>\n      <td>0</td>\n      <td>0</td>\n      <td>4.20</td>\n      <td>0</td>\n    </tr>\n    <tr>\n      <th>1</th>\n      <td>1</td>\n      <td>1</td>\n      <td>3.86</td>\n      <td>0</td>\n    </tr>\n    <tr>\n      <th>2</th>\n      <td>2</td>\n      <td>2</td>\n      <td>4.12</td>\n      <td>0</td>\n    </tr>\n    <tr>\n      <th>3</th>\n      <td>3</td>\n      <td>3</td>\n      <td>3.97</td>\n      <td>0</td>\n    </tr>\n    <tr>\n      <th>4</th>\n      <td>4</td>\n      <td>4</td>\n      <td>3.88</td>\n      <td>0</td>\n    </tr>\n    <tr>\n      <th>5</th>\n      <td>5</td>\n      <td>5</td>\n      <td>4.04</td>\n      <td>0</td>\n    </tr>\n    <tr>\n      <th>6</th>\n      <td>6</td>\n      <td>6</td>\n      <td>4.25</td>\n      <td>0</td>\n    </tr>\n    <tr>\n      <th>7</th>\n      <td>7</td>\n      <td>7</td>\n      <td>3.82</td>\n      <td>0</td>\n    </tr>\n    <tr>\n      <th>8</th>\n      <td>8</td>\n      <td>8</td>\n      <td>4.11</td>\n      <td>0</td>\n    </tr>\n    <tr>\n      <th>9</th>\n      <td>9</td>\n      <td>9</td>\n      <td>3.96</td>\n      <td>0</td>\n    </tr>\n    <tr>\n      <th>10</th>\n      <td>10</td>\n      <td>10</td>\n      <td>3.83</td>\n      <td>0</td>\n    </tr>\n    <tr>\n      <th>11</th>\n      <td>11</td>\n      <td>11</td>\n      <td>3.74</td>\n      <td>0</td>\n    </tr>\n    <tr>\n      <th>12</th>\n      <td>12</td>\n      <td>12</td>\n      <td>4.01</td>\n      <td>0</td>\n    </tr>\n    <tr>\n      <th>13</th>\n      <td>13</td>\n      <td>13</td>\n      <td>4.04</td>\n      <td>0</td>\n    </tr>\n    <tr>\n      <th>14</th>\n      <td>14</td>\n      <td>14</td>\n      <td>3.73</td>\n      <td>0</td>\n    </tr>\n    <tr>\n      <th>15</th>\n      <td>15</td>\n      <td>15</td>\n      <td>3.65</td>\n      <td>0</td>\n    </tr>\n    <tr>\n      <th>16</th>\n      <td>16</td>\n      <td>16</td>\n      <td>3.32</td>\n      <td>0</td>\n    </tr>\n    <tr>\n      <th>17</th>\n      <td>17</td>\n      <td>17</td>\n      <td>4.00</td>\n      <td>0</td>\n    </tr>\n    <tr>\n      <th>18</th>\n      <td>18</td>\n      <td>18</td>\n      <td>4.40</td>\n      <td>0</td>\n    </tr>\n    <tr>\n      <th>19</th>\n      <td>19</td>\n      <td>19</td>\n      <td>4.06</td>\n      <td>0</td>\n    </tr>\n    <tr>\n      <th>20</th>\n      <td>20</td>\n      <td>20</td>\n      <td>0.00</td>\n      <td>1</td>\n    </tr>\n    <tr>\n      <th>21</th>\n      <td>21</td>\n      <td>21</td>\n      <td>0.00</td>\n      <td>1</td>\n    </tr>\n    <tr>\n      <th>22</th>\n      <td>22</td>\n      <td>22</td>\n      <td>0.00</td>\n      <td>1</td>\n    </tr>\n    <tr>\n      <th>23</th>\n      <td>23</td>\n      <td>23</td>\n      <td>0.00</td>\n      <td>1</td>\n    </tr>\n    <tr>\n      <th>24</th>\n      <td>24</td>\n      <td>24</td>\n      <td>0.00</td>\n      <td>1</td>\n    </tr>\n    <tr>\n      <th>25</th>\n      <td>25</td>\n      <td>25</td>\n      <td>0.00</td>\n      <td>1</td>\n    </tr>\n    <tr>\n      <th>26</th>\n      <td>26</td>\n      <td>26</td>\n      <td>0.00</td>\n      <td>1</td>\n    </tr>\n    <tr>\n      <th>27</th>\n      <td>27</td>\n      <td>27</td>\n      <td>0.00</td>\n      <td>1</td>\n    </tr>\n    <tr>\n      <th>28</th>\n      <td>28</td>\n      <td>28</td>\n      <td>0.00</td>\n      <td>1</td>\n    </tr>\n    <tr>\n      <th>29</th>\n      <td>29</td>\n      <td>29</td>\n      <td>0.00</td>\n      <td>1</td>\n    </tr>\n    <tr>\n      <th>30</th>\n      <td>30</td>\n      <td>30</td>\n      <td>0.00</td>\n      <td>1</td>\n    </tr>\n    <tr>\n      <th>31</th>\n      <td>31</td>\n      <td>31</td>\n      <td>0.00</td>\n      <td>1</td>\n    </tr>\n    <tr>\n      <th>32</th>\n      <td>32</td>\n      <td>32</td>\n      <td>0.00</td>\n      <td>1</td>\n    </tr>\n    <tr>\n      <th>33</th>\n      <td>33</td>\n      <td>33</td>\n      <td>0.00</td>\n      <td>1</td>\n    </tr>\n    <tr>\n      <th>34</th>\n      <td>34</td>\n      <td>34</td>\n      <td>0.00</td>\n      <td>1</td>\n    </tr>\n    <tr>\n      <th>35</th>\n      <td>35</td>\n      <td>35</td>\n      <td>0.00</td>\n      <td>1</td>\n    </tr>\n    <tr>\n      <th>36</th>\n      <td>36</td>\n      <td>36</td>\n      <td>0.00</td>\n      <td>1</td>\n    </tr>\n    <tr>\n      <th>37</th>\n      <td>37</td>\n      <td>37</td>\n      <td>0.00</td>\n      <td>1</td>\n    </tr>\n    <tr>\n      <th>38</th>\n      <td>38</td>\n      <td>38</td>\n      <td>0.00</td>\n      <td>1</td>\n    </tr>\n    <tr>\n      <th>39</th>\n      <td>39</td>\n      <td>39</td>\n      <td>0.00</td>\n      <td>1</td>\n    </tr>\n  </tbody>\n</table>\n</div>"
     },
     "execution_count": 223,
     "metadata": {},
     "output_type": "execute_result"
    }
   ],
   "source": [
    "review = total.copy()\n",
    "for name in source_final.index:\n",
    "    review = review.replace(to_replace=source_final.iloc[name]['source_name'], value=source_final.loc[name]['source_id'])\n",
    "\n",
    "for name in books_final.index:\n",
    "     review = review.replace(to_replace=books_final.iloc[name]['title'], value=books_final.loc[name]['book_id'])\n",
    "review_final = review[['Title', 'Rating', 'source']]\n",
    "review_final = review_final.reset_index(drop=True)\n",
    "review_final = review_final.reset_index()\n",
    "review_final = review_final.rename(columns={'index': 'review_id','Title': 'book_fk','source': 'source_fk', 'Rating': 'rating'})\n",
    "review_final.head()"
   ],
   "metadata": {
    "collapsed": false,
    "pycharm": {
     "name": "#%%\n"
    }
   }
  },
  {
   "cell_type": "code",
   "execution_count": 223,
   "outputs": [],
   "source": [],
   "metadata": {
    "collapsed": false,
    "pycharm": {
     "name": "#%%\n"
    }
   }
  },
  {
   "cell_type": "code",
   "execution_count": 224,
   "metadata": {},
   "outputs": [],
   "source": [
    "rds_connection_string = \"postgres:postgres@localhost:5432/ETL_Project\"\n",
    "engine = create_engine(f'postgresql://{rds_connection_string}')"
   ]
  },
  {
   "cell_type": "code",
   "execution_count": 225,
   "outputs": [
    {
     "data": {
      "text/plain": "[]"
     },
     "execution_count": 225,
     "metadata": {},
     "output_type": "execute_result"
    }
   ],
   "source": [
    "engine.table_names()"
   ],
   "metadata": {
    "collapsed": false,
    "pycharm": {
     "name": "#%%\n"
    }
   }
  },
  {
   "cell_type": "code",
   "execution_count": 226,
   "outputs": [],
   "source": [
    "author_final.to_sql(name='author', con=engine, if_exists='append', index=False)\n",
    "books_final.to_sql(name='book', con=engine, if_exists='append', index=False)\n",
    "source_final.to_sql(name='source', con=engine, if_exists='append', index=False)\n",
    "review_final.to_sql(name='review', con=engine, if_exists='append', index=False)\n",
    "\n",
    "\n"
   ],
   "metadata": {
    "collapsed": false,
    "pycharm": {
     "name": "#%%\n"
    }
   }
  }
 ],
 "metadata": {
  "anaconda-cloud": {},
  "kernelspec": {
   "name": "conda-env-PythonData-py",
   "language": "python",
   "display_name": "Python [conda env:PythonData] *"
  },
  "language_info": {
   "codemirror_mode": {
    "name": "ipython",
    "version": 3
   },
   "file_extension": ".py",
   "mimetype": "text/x-python",
   "name": "python",
   "nbconvert_exporter": "python",
   "pygments_lexer": "ipython3",
   "version": "3.6.10"
  }
 },
 "nbformat": 4,
 "nbformat_minor": 2
}