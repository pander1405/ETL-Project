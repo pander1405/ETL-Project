{
 "cells": [
  {
   "cell_type": "code",
   "execution_count": 52,
   "metadata": {},
   "outputs": [],
   "source": [
    "# Dependencies\n",
    "import pandas as pd\n",
    "from sqlalchemy import create_engine"
   ]
  },
  {
   "cell_type": "code",
   "execution_count": 53,
   "metadata": {},
   "outputs": [],
   "source": [
    "# Store filepath in a variable\n",
    "goodreads_csv = 'Output/paul.csv'\n",
    "amazon_csv = 'Output/2019_Amazon-Best-Sellers_FullTable_AuthorNamesSplit.csv'\n",
    "nyt_csv = 'Output/nyt-api-update.csv'"
   ]
  },
  {
   "cell_type": "code",
   "execution_count": 54,
   "metadata": {},
   "outputs": [
    {
     "data": {
      "text/plain": "                                  Title       First       Last        Date  \\\n0       21 LESSONS FOR THE 21ST CENTURY  Yuval Noah     Harari  2019-12-07   \n1       21 LESSONS FOR THE 21ST CENTURY  Yuval Noah     Harari  2019-09-28   \n2       21 LESSONS FOR THE 21ST CENTURY  Yuval Noah     Harari  2019-09-21   \n3       21 LESSONS FOR THE 21ST CENTURY  Yuval Noah     Harari  2019-09-14   \n4       21 LESSONS FOR THE 21ST CENTURY  Yuval Noah     Harari  2019-09-07   \n5       21 LESSONS FOR THE 21ST CENTURY  Yuval Noah     Harari  2019-08-31   \n6       21 LESSONS FOR THE 21ST CENTURY  Yuval Noah     Harari  2019-08-31   \n7       21 LESSONS FOR THE 21ST CENTURY  Yuval Noah     Harari  2019-08-24   \n8       21 LESSONS FOR THE 21ST CENTURY  Yuval Noah     Harari  2019-03-02   \n9       21 LESSONS FOR THE 21ST CENTURY  Yuval Noah     Harari  2019-03-02   \n10    7-DAY APPLE CIDER VINEGAR CLEANSE          JJ      Smith  2019-12-28   \n11  A BEAUTIFUL DAY IN THE NEIGHBORHOOD        Fred     Rogers  2019-12-28   \n12  A BEAUTIFUL DAY IN THE NEIGHBORHOOD        Fred     Rogers  2019-12-21   \n13  A BEAUTIFUL DAY IN THE NEIGHBORHOOD        Fred     Rogers  2019-12-14   \n14  A BEAUTIFUL DAY IN THE NEIGHBORHOOD        Fred     Rogers  2019-12-07   \n15  A BEAUTIFUL DAY IN THE NEIGHBORHOOD        Fred     Rogers  2019-11-30   \n16  A BEAUTIFUL DAY IN THE NEIGHBORHOOD        Fred     Rogers  2019-11-23   \n17  A BEAUTIFUL DAY IN THE NEIGHBORHOOD        Fred     Rogers  2019-11-16   \n18  A BEAUTIFUL DAY IN THE NEIGHBORHOOD        Fred     Rogers  2019-11-09   \n19  A BEAUTIFUL DAY IN THE NEIGHBORHOOD        Fred     Rogers  2019-09-28   \n20  A BEAUTIFUL DAY IN THE NEIGHBORHOOD        Fred     Rogers  2019-09-21   \n21  A BEAUTIFUL DAY IN THE NEIGHBORHOOD        Fred     Rogers  2019-09-14   \n22  A BEAUTIFUL DAY IN THE NEIGHBORHOOD        Fred     Rogers  2019-08-31   \n23  A BEAUTIFUL DAY IN THE NEIGHBORHOOD        Fred     Rogers  2019-08-24   \n24  A BEAUTIFUL DAY IN THE NEIGHBORHOOD        Fred     Rogers  2019-08-17   \n25  A BEAUTIFUL DAY IN THE NEIGHBORHOOD        Fred     Rogers  2019-08-10   \n26  A BEAUTIFUL DAY IN THE NEIGHBORHOOD        Fred     Rogers  2019-08-03   \n27  A BEAUTIFUL DAY IN THE NEIGHBORHOOD        Fred     Rogers  2019-07-27   \n28  A BEAUTIFUL DAY IN THE NEIGHBORHOOD        Fred     Rogers  2019-07-20   \n29  A BEAUTIFUL DAY IN THE NEIGHBORHOOD        Fred     Rogers  2019-07-13   \n30  A BEAUTIFUL DAY IN THE NEIGHBORHOOD        Fred     Rogers  2019-07-06   \n31                         A BETTER MAN      Louise      Penny  2019-09-28   \n32                         A BETTER MAN      Louise      Penny  2019-09-21   \n33                         A BETTER MAN      Louise      Penny  2019-09-14   \n34                         A BETTER MAN      Louise      Penny  2019-09-14   \n35                         A BETTER MAN      Louise      Penny  2019-09-07   \n36                         A BETTER MAN      Louise      Penny  2019-09-07   \n37                         A BETTER MAN      Louise      Penny  2019-08-31   \n38                         A BETTER MAN      Louise      Penny  2019-08-31   \n39                         A BETTER MAN      Louise      Penny  2019-08-31   \n40                     A CLASH OF KINGS   George RR     Martin  2019-06-29   \n41                     A CLASH OF KINGS   George RR     Martin  2019-06-01   \n42                     A CLASH OF KINGS   George RR     Martin  2019-04-27   \n43                     A COLUMN OF FIRE         Ken    Follett  2019-09-28   \n44           A CURSE SO DARK AND LONELY      Brigid   Kemmerer  2019-02-02   \n45                      A DANGEROUS MAN      Robert      Crais  2019-08-17   \n46                      A DANGEROUS MAN      Robert      Crais  2019-08-10   \n47                      A DANGEROUS MAN      Robert      Crais  2019-08-10   \n48                     A DELICATE TOUCH      Stuart      Woods  2019-01-05   \n49                     A DELICATE TOUCH      Stuart      Woods  2019-01-05   \n50               A DISCOVERY OF WITCHES     Deborah   Harkness  2019-03-02   \n51               A DISCOVERY OF WITCHES     Deborah   Harkness  2019-01-26   \n52                      A DOG'S JOURNEY     W Bruce    Cameron  2019-05-18   \n53                      A DOG'S JOURNEY     W Bruce    Cameron  2019-05-11   \n54                      A DOG'S JOURNEY     W Bruce    Cameron  2019-05-04   \n55                      A DOG'S JOURNEY     W Bruce    Cameron  2019-04-20   \n56                     A DOG'S WAY HOME     W Bruce    Cameron  2019-04-06   \n57                     A DOG'S WAY HOME     W Bruce    Cameron  2019-02-16   \n58                     A DOG'S WAY HOME     W Bruce    Cameron  2019-02-09   \n59                     A DOG'S WAY HOME     W Bruce    Cameron  2019-02-02   \n\n    Rank  Year  \n0     15  2019  \n1     12  2019  \n2     10  2019  \n3     15  2019  \n4      9  2019  \n5     13  2019  \n6      9  2019  \n7      6  2019  \n8      5  2019  \n9     13  2019  \n10     7  2019  \n11     9  2019  \n12     7  2019  \n13    10  2019  \n14     9  2019  \n15     7  2019  \n16    10  2019  \n17     9  2019  \n18     8  2019  \n19    10  2019  \n20    10  2019  \n21     8  2019  \n22     8  2019  \n23     7  2019  \n24     6  2019  \n25     8  2019  \n26     7  2019  \n27     7  2019  \n28     6  2019  \n29     8  2019  \n30    10  2019  \n31    15  2019  \n32    10  2019  \n33     9  2019  \n34    13  2019  \n35     5  2019  \n36     4  2019  \n37    11  2019  \n38     1  2019  \n39     1  2019  \n40     6  2019  \n41     4  2019  \n42    10  2019  \n43    12  2019  \n44     7  2019  \n45    14  2019  \n46     7  2019  \n47     4  2019  \n48     9  2019  \n49     5  2019  \n50    12  2019  \n51    15  2019  \n52    14  2019  \n53    12  2019  \n54    14  2019  \n55    15  2019  \n56    12  2019  \n57     9  2019  \n58    11  2019  \n59     7  2019  ",
      "text/html": "<div>\n<style scoped>\n    .dataframe tbody tr th:only-of-type {\n        vertical-align: middle;\n    }\n\n    .dataframe tbody tr th {\n        vertical-align: top;\n    }\n\n    .dataframe thead th {\n        text-align: right;\n    }\n</style>\n<table border=\"1\" class=\"dataframe\">\n  <thead>\n    <tr style=\"text-align: right;\">\n      <th></th>\n      <th>Title</th>\n      <th>First</th>\n      <th>Last</th>\n      <th>Date</th>\n      <th>Rank</th>\n      <th>Year</th>\n    </tr>\n  </thead>\n  <tbody>\n    <tr>\n      <th>0</th>\n      <td>21 LESSONS FOR THE 21ST CENTURY</td>\n      <td>Yuval Noah</td>\n      <td>Harari</td>\n      <td>2019-12-07</td>\n      <td>15</td>\n      <td>2019</td>\n    </tr>\n    <tr>\n      <th>1</th>\n      <td>21 LESSONS FOR THE 21ST CENTURY</td>\n      <td>Yuval Noah</td>\n      <td>Harari</td>\n      <td>2019-09-28</td>\n      <td>12</td>\n      <td>2019</td>\n    </tr>\n    <tr>\n      <th>2</th>\n      <td>21 LESSONS FOR THE 21ST CENTURY</td>\n      <td>Yuval Noah</td>\n      <td>Harari</td>\n      <td>2019-09-21</td>\n      <td>10</td>\n      <td>2019</td>\n    </tr>\n    <tr>\n      <th>3</th>\n      <td>21 LESSONS FOR THE 21ST CENTURY</td>\n      <td>Yuval Noah</td>\n      <td>Harari</td>\n      <td>2019-09-14</td>\n      <td>15</td>\n      <td>2019</td>\n    </tr>\n    <tr>\n      <th>4</th>\n      <td>21 LESSONS FOR THE 21ST CENTURY</td>\n      <td>Yuval Noah</td>\n      <td>Harari</td>\n      <td>2019-09-07</td>\n      <td>9</td>\n      <td>2019</td>\n    </tr>\n    <tr>\n      <th>5</th>\n      <td>21 LESSONS FOR THE 21ST CENTURY</td>\n      <td>Yuval Noah</td>\n      <td>Harari</td>\n      <td>2019-08-31</td>\n      <td>13</td>\n      <td>2019</td>\n    </tr>\n    <tr>\n      <th>6</th>\n      <td>21 LESSONS FOR THE 21ST CENTURY</td>\n      <td>Yuval Noah</td>\n      <td>Harari</td>\n      <td>2019-08-31</td>\n      <td>9</td>\n      <td>2019</td>\n    </tr>\n    <tr>\n      <th>7</th>\n      <td>21 LESSONS FOR THE 21ST CENTURY</td>\n      <td>Yuval Noah</td>\n      <td>Harari</td>\n      <td>2019-08-24</td>\n      <td>6</td>\n      <td>2019</td>\n    </tr>\n    <tr>\n      <th>8</th>\n      <td>21 LESSONS FOR THE 21ST CENTURY</td>\n      <td>Yuval Noah</td>\n      <td>Harari</td>\n      <td>2019-03-02</td>\n      <td>5</td>\n      <td>2019</td>\n    </tr>\n    <tr>\n      <th>9</th>\n      <td>21 LESSONS FOR THE 21ST CENTURY</td>\n      <td>Yuval Noah</td>\n      <td>Harari</td>\n      <td>2019-03-02</td>\n      <td>13</td>\n      <td>2019</td>\n    </tr>\n    <tr>\n      <th>10</th>\n      <td>7-DAY APPLE CIDER VINEGAR CLEANSE</td>\n      <td>JJ</td>\n      <td>Smith</td>\n      <td>2019-12-28</td>\n      <td>7</td>\n      <td>2019</td>\n    </tr>\n    <tr>\n      <th>11</th>\n      <td>A BEAUTIFUL DAY IN THE NEIGHBORHOOD</td>\n      <td>Fred</td>\n      <td>Rogers</td>\n      <td>2019-12-28</td>\n      <td>9</td>\n      <td>2019</td>\n    </tr>\n    <tr>\n      <th>12</th>\n      <td>A BEAUTIFUL DAY IN THE NEIGHBORHOOD</td>\n      <td>Fred</td>\n      <td>Rogers</td>\n      <td>2019-12-21</td>\n      <td>7</td>\n      <td>2019</td>\n    </tr>\n    <tr>\n      <th>13</th>\n      <td>A BEAUTIFUL DAY IN THE NEIGHBORHOOD</td>\n      <td>Fred</td>\n      <td>Rogers</td>\n      <td>2019-12-14</td>\n      <td>10</td>\n      <td>2019</td>\n    </tr>\n    <tr>\n      <th>14</th>\n      <td>A BEAUTIFUL DAY IN THE NEIGHBORHOOD</td>\n      <td>Fred</td>\n      <td>Rogers</td>\n      <td>2019-12-07</td>\n      <td>9</td>\n      <td>2019</td>\n    </tr>\n    <tr>\n      <th>15</th>\n      <td>A BEAUTIFUL DAY IN THE NEIGHBORHOOD</td>\n      <td>Fred</td>\n      <td>Rogers</td>\n      <td>2019-11-30</td>\n      <td>7</td>\n      <td>2019</td>\n    </tr>\n    <tr>\n      <th>16</th>\n      <td>A BEAUTIFUL DAY IN THE NEIGHBORHOOD</td>\n      <td>Fred</td>\n      <td>Rogers</td>\n      <td>2019-11-23</td>\n      <td>10</td>\n      <td>2019</td>\n    </tr>\n    <tr>\n      <th>17</th>\n      <td>A BEAUTIFUL DAY IN THE NEIGHBORHOOD</td>\n      <td>Fred</td>\n      <td>Rogers</td>\n      <td>2019-11-16</td>\n      <td>9</td>\n      <td>2019</td>\n    </tr>\n    <tr>\n      <th>18</th>\n      <td>A BEAUTIFUL DAY IN THE NEIGHBORHOOD</td>\n      <td>Fred</td>\n      <td>Rogers</td>\n      <td>2019-11-09</td>\n      <td>8</td>\n      <td>2019</td>\n    </tr>\n    <tr>\n      <th>19</th>\n      <td>A BEAUTIFUL DAY IN THE NEIGHBORHOOD</td>\n      <td>Fred</td>\n      <td>Rogers</td>\n      <td>2019-09-28</td>\n      <td>10</td>\n      <td>2019</td>\n    </tr>\n    <tr>\n      <th>20</th>\n      <td>A BEAUTIFUL DAY IN THE NEIGHBORHOOD</td>\n      <td>Fred</td>\n      <td>Rogers</td>\n      <td>2019-09-21</td>\n      <td>10</td>\n      <td>2019</td>\n    </tr>\n    <tr>\n      <th>21</th>\n      <td>A BEAUTIFUL DAY IN THE NEIGHBORHOOD</td>\n      <td>Fred</td>\n      <td>Rogers</td>\n      <td>2019-09-14</td>\n      <td>8</td>\n      <td>2019</td>\n    </tr>\n    <tr>\n      <th>22</th>\n      <td>A BEAUTIFUL DAY IN THE NEIGHBORHOOD</td>\n      <td>Fred</td>\n      <td>Rogers</td>\n      <td>2019-08-31</td>\n      <td>8</td>\n      <td>2019</td>\n    </tr>\n    <tr>\n      <th>23</th>\n      <td>A BEAUTIFUL DAY IN THE NEIGHBORHOOD</td>\n      <td>Fred</td>\n      <td>Rogers</td>\n      <td>2019-08-24</td>\n      <td>7</td>\n      <td>2019</td>\n    </tr>\n    <tr>\n      <th>24</th>\n      <td>A BEAUTIFUL DAY IN THE NEIGHBORHOOD</td>\n      <td>Fred</td>\n      <td>Rogers</td>\n      <td>2019-08-17</td>\n      <td>6</td>\n      <td>2019</td>\n    </tr>\n    <tr>\n      <th>25</th>\n      <td>A BEAUTIFUL DAY IN THE NEIGHBORHOOD</td>\n      <td>Fred</td>\n      <td>Rogers</td>\n      <td>2019-08-10</td>\n      <td>8</td>\n      <td>2019</td>\n    </tr>\n    <tr>\n      <th>26</th>\n      <td>A BEAUTIFUL DAY IN THE NEIGHBORHOOD</td>\n      <td>Fred</td>\n      <td>Rogers</td>\n      <td>2019-08-03</td>\n      <td>7</td>\n      <td>2019</td>\n    </tr>\n    <tr>\n      <th>27</th>\n      <td>A BEAUTIFUL DAY IN THE NEIGHBORHOOD</td>\n      <td>Fred</td>\n      <td>Rogers</td>\n      <td>2019-07-27</td>\n      <td>7</td>\n      <td>2019</td>\n    </tr>\n    <tr>\n      <th>28</th>\n      <td>A BEAUTIFUL DAY IN THE NEIGHBORHOOD</td>\n      <td>Fred</td>\n      <td>Rogers</td>\n      <td>2019-07-20</td>\n      <td>6</td>\n      <td>2019</td>\n    </tr>\n    <tr>\n      <th>29</th>\n      <td>A BEAUTIFUL DAY IN THE NEIGHBORHOOD</td>\n      <td>Fred</td>\n      <td>Rogers</td>\n      <td>2019-07-13</td>\n      <td>8</td>\n      <td>2019</td>\n    </tr>\n    <tr>\n      <th>30</th>\n      <td>A BEAUTIFUL DAY IN THE NEIGHBORHOOD</td>\n      <td>Fred</td>\n      <td>Rogers</td>\n      <td>2019-07-06</td>\n      <td>10</td>\n      <td>2019</td>\n    </tr>\n    <tr>\n      <th>31</th>\n      <td>A BETTER MAN</td>\n      <td>Louise</td>\n      <td>Penny</td>\n      <td>2019-09-28</td>\n      <td>15</td>\n      <td>2019</td>\n    </tr>\n    <tr>\n      <th>32</th>\n      <td>A BETTER MAN</td>\n      <td>Louise</td>\n      <td>Penny</td>\n      <td>2019-09-21</td>\n      <td>10</td>\n      <td>2019</td>\n    </tr>\n    <tr>\n      <th>33</th>\n      <td>A BETTER MAN</td>\n      <td>Louise</td>\n      <td>Penny</td>\n      <td>2019-09-14</td>\n      <td>9</td>\n      <td>2019</td>\n    </tr>\n    <tr>\n      <th>34</th>\n      <td>A BETTER MAN</td>\n      <td>Louise</td>\n      <td>Penny</td>\n      <td>2019-09-14</td>\n      <td>13</td>\n      <td>2019</td>\n    </tr>\n    <tr>\n      <th>35</th>\n      <td>A BETTER MAN</td>\n      <td>Louise</td>\n      <td>Penny</td>\n      <td>2019-09-07</td>\n      <td>5</td>\n      <td>2019</td>\n    </tr>\n    <tr>\n      <th>36</th>\n      <td>A BETTER MAN</td>\n      <td>Louise</td>\n      <td>Penny</td>\n      <td>2019-09-07</td>\n      <td>4</td>\n      <td>2019</td>\n    </tr>\n    <tr>\n      <th>37</th>\n      <td>A BETTER MAN</td>\n      <td>Louise</td>\n      <td>Penny</td>\n      <td>2019-08-31</td>\n      <td>11</td>\n      <td>2019</td>\n    </tr>\n    <tr>\n      <th>38</th>\n      <td>A BETTER MAN</td>\n      <td>Louise</td>\n      <td>Penny</td>\n      <td>2019-08-31</td>\n      <td>1</td>\n      <td>2019</td>\n    </tr>\n    <tr>\n      <th>39</th>\n      <td>A BETTER MAN</td>\n      <td>Louise</td>\n      <td>Penny</td>\n      <td>2019-08-31</td>\n      <td>1</td>\n      <td>2019</td>\n    </tr>\n    <tr>\n      <th>40</th>\n      <td>A CLASH OF KINGS</td>\n      <td>George RR</td>\n      <td>Martin</td>\n      <td>2019-06-29</td>\n      <td>6</td>\n      <td>2019</td>\n    </tr>\n    <tr>\n      <th>41</th>\n      <td>A CLASH OF KINGS</td>\n      <td>George RR</td>\n      <td>Martin</td>\n      <td>2019-06-01</td>\n      <td>4</td>\n      <td>2019</td>\n    </tr>\n    <tr>\n      <th>42</th>\n      <td>A CLASH OF KINGS</td>\n      <td>George RR</td>\n      <td>Martin</td>\n      <td>2019-04-27</td>\n      <td>10</td>\n      <td>2019</td>\n    </tr>\n    <tr>\n      <th>43</th>\n      <td>A COLUMN OF FIRE</td>\n      <td>Ken</td>\n      <td>Follett</td>\n      <td>2019-09-28</td>\n      <td>12</td>\n      <td>2019</td>\n    </tr>\n    <tr>\n      <th>44</th>\n      <td>A CURSE SO DARK AND LONELY</td>\n      <td>Brigid</td>\n      <td>Kemmerer</td>\n      <td>2019-02-02</td>\n      <td>7</td>\n      <td>2019</td>\n    </tr>\n    <tr>\n      <th>45</th>\n      <td>A DANGEROUS MAN</td>\n      <td>Robert</td>\n      <td>Crais</td>\n      <td>2019-08-17</td>\n      <td>14</td>\n      <td>2019</td>\n    </tr>\n    <tr>\n      <th>46</th>\n      <td>A DANGEROUS MAN</td>\n      <td>Robert</td>\n      <td>Crais</td>\n      <td>2019-08-10</td>\n      <td>7</td>\n      <td>2019</td>\n    </tr>\n    <tr>\n      <th>47</th>\n      <td>A DANGEROUS MAN</td>\n      <td>Robert</td>\n      <td>Crais</td>\n      <td>2019-08-10</td>\n      <td>4</td>\n      <td>2019</td>\n    </tr>\n    <tr>\n      <th>48</th>\n      <td>A DELICATE TOUCH</td>\n      <td>Stuart</td>\n      <td>Woods</td>\n      <td>2019-01-05</td>\n      <td>9</td>\n      <td>2019</td>\n    </tr>\n    <tr>\n      <th>49</th>\n      <td>A DELICATE TOUCH</td>\n      <td>Stuart</td>\n      <td>Woods</td>\n      <td>2019-01-05</td>\n      <td>5</td>\n      <td>2019</td>\n    </tr>\n    <tr>\n      <th>50</th>\n      <td>A DISCOVERY OF WITCHES</td>\n      <td>Deborah</td>\n      <td>Harkness</td>\n      <td>2019-03-02</td>\n      <td>12</td>\n      <td>2019</td>\n    </tr>\n    <tr>\n      <th>51</th>\n      <td>A DISCOVERY OF WITCHES</td>\n      <td>Deborah</td>\n      <td>Harkness</td>\n      <td>2019-01-26</td>\n      <td>15</td>\n      <td>2019</td>\n    </tr>\n    <tr>\n      <th>52</th>\n      <td>A DOG'S JOURNEY</td>\n      <td>W Bruce</td>\n      <td>Cameron</td>\n      <td>2019-05-18</td>\n      <td>14</td>\n      <td>2019</td>\n    </tr>\n    <tr>\n      <th>53</th>\n      <td>A DOG'S JOURNEY</td>\n      <td>W Bruce</td>\n      <td>Cameron</td>\n      <td>2019-05-11</td>\n      <td>12</td>\n      <td>2019</td>\n    </tr>\n    <tr>\n      <th>54</th>\n      <td>A DOG'S JOURNEY</td>\n      <td>W Bruce</td>\n      <td>Cameron</td>\n      <td>2019-05-04</td>\n      <td>14</td>\n      <td>2019</td>\n    </tr>\n    <tr>\n      <th>55</th>\n      <td>A DOG'S JOURNEY</td>\n      <td>W Bruce</td>\n      <td>Cameron</td>\n      <td>2019-04-20</td>\n      <td>15</td>\n      <td>2019</td>\n    </tr>\n    <tr>\n      <th>56</th>\n      <td>A DOG'S WAY HOME</td>\n      <td>W Bruce</td>\n      <td>Cameron</td>\n      <td>2019-04-06</td>\n      <td>12</td>\n      <td>2019</td>\n    </tr>\n    <tr>\n      <th>57</th>\n      <td>A DOG'S WAY HOME</td>\n      <td>W Bruce</td>\n      <td>Cameron</td>\n      <td>2019-02-16</td>\n      <td>9</td>\n      <td>2019</td>\n    </tr>\n    <tr>\n      <th>58</th>\n      <td>A DOG'S WAY HOME</td>\n      <td>W Bruce</td>\n      <td>Cameron</td>\n      <td>2019-02-09</td>\n      <td>11</td>\n      <td>2019</td>\n    </tr>\n    <tr>\n      <th>59</th>\n      <td>A DOG'S WAY HOME</td>\n      <td>W Bruce</td>\n      <td>Cameron</td>\n      <td>2019-02-02</td>\n      <td>7</td>\n      <td>2019</td>\n    </tr>\n  </tbody>\n</table>\n</div>"
     },
     "execution_count": 54,
     "metadata": {},
     "output_type": "execute_result"
    }
   ],
   "source": [
    "# Read our Data file with the pandas library\n",
    "goodreads_orig = pd.read_csv(goodreads_csv, encoding='ISO-8859-1')\n",
    "amazon_orig = pd.read_csv(amazon_csv, encoding='ISO-8859-1')\n",
    "nyt_orig = pd.read_csv(nyt_csv, encoding='ISO-8859-1')\n",
    "nyt_orig.head(60)"
   ]
  },
  {
   "cell_type": "code",
   "execution_count": 55,
   "metadata": {},
   "outputs": [
    {
     "name": "stderr",
     "output_type": "stream",
     "text": [
      "C:\\Users\\blbst\\anaconda3\\envs\\PythonData\\lib\\site-packages\\ipykernel_launcher.py:3: SettingWithCopyWarning: \n",
      "A value is trying to be set on a copy of a slice from a DataFrame.\n",
      "Try using .loc[row_indexer,col_indexer] = value instead\n",
      "\n",
      "See the caveats in the documentation: https://pandas.pydata.org/pandas-docs/stable/user_guide/indexing.html#returning-a-view-versus-a-copy\n",
      "  This is separate from the ipykernel package so we can avoid doing imports until\n"
     ]
    },
    {
     "data": {
      "text/plain": "                             Title       First     Last  Rating  \\\n0  21 LESSONS FOR THE 21ST CENTURY  Yuval Noah   Harari      15   \n1  21 LESSONS FOR THE 21ST CENTURY  Yuval Noah   Harari      12   \n2  21 LESSONS FOR THE 21ST CENTURY  Yuval Noah   Harari      10   \n3  21 LESSONS FOR THE 21ST CENTURY  Yuval Noah   Harari      15   \n4  21 LESSONS FOR THE 21ST CENTURY  Yuval Noah   Harari       9   \n\n           source  \n0  New York Times  \n1  New York Times  \n2  New York Times  \n3  New York Times  \n4  New York Times  ",
      "text/html": "<div>\n<style scoped>\n    .dataframe tbody tr th:only-of-type {\n        vertical-align: middle;\n    }\n\n    .dataframe tbody tr th {\n        vertical-align: top;\n    }\n\n    .dataframe thead th {\n        text-align: right;\n    }\n</style>\n<table border=\"1\" class=\"dataframe\">\n  <thead>\n    <tr style=\"text-align: right;\">\n      <th></th>\n      <th>Title</th>\n      <th>First</th>\n      <th>Last</th>\n      <th>Rating</th>\n      <th>source</th>\n    </tr>\n  </thead>\n  <tbody>\n    <tr>\n      <th>0</th>\n      <td>21 LESSONS FOR THE 21ST CENTURY</td>\n      <td>Yuval Noah</td>\n      <td>Harari</td>\n      <td>15</td>\n      <td>New York Times</td>\n    </tr>\n    <tr>\n      <th>1</th>\n      <td>21 LESSONS FOR THE 21ST CENTURY</td>\n      <td>Yuval Noah</td>\n      <td>Harari</td>\n      <td>12</td>\n      <td>New York Times</td>\n    </tr>\n    <tr>\n      <th>2</th>\n      <td>21 LESSONS FOR THE 21ST CENTURY</td>\n      <td>Yuval Noah</td>\n      <td>Harari</td>\n      <td>10</td>\n      <td>New York Times</td>\n    </tr>\n    <tr>\n      <th>3</th>\n      <td>21 LESSONS FOR THE 21ST CENTURY</td>\n      <td>Yuval Noah</td>\n      <td>Harari</td>\n      <td>15</td>\n      <td>New York Times</td>\n    </tr>\n    <tr>\n      <th>4</th>\n      <td>21 LESSONS FOR THE 21ST CENTURY</td>\n      <td>Yuval Noah</td>\n      <td>Harari</td>\n      <td>9</td>\n      <td>New York Times</td>\n    </tr>\n  </tbody>\n</table>\n</div>"
     },
     "execution_count": 55,
     "metadata": {},
     "output_type": "execute_result"
    }
   ],
   "source": [
    "# get only relevant columns from nyt and rename columns\n",
    "nyt = nyt_orig[['Title', 'First', 'Last', 'Rank']]\n",
    "nyt['source'] ='New York Times'\n",
    "nyt = nyt.rename(columns={'Rank': 'Rating'})\n",
    "nyt.head()"
   ]
  },
  {
   "cell_type": "code",
   "execution_count": 56,
   "outputs": [
    {
     "name": "stderr",
     "output_type": "stream",
     "text": [
      "C:\\Users\\blbst\\anaconda3\\envs\\PythonData\\lib\\site-packages\\ipykernel_launcher.py:3: SettingWithCopyWarning: \n",
      "A value is trying to be set on a copy of a slice from a DataFrame.\n",
      "Try using .loc[row_indexer,col_indexer] = value instead\n",
      "\n",
      "See the caveats in the documentation: https://pandas.pydata.org/pandas-docs/stable/user_guide/indexing.html#returning-a-view-versus-a-copy\n",
      "  This is separate from the ipykernel package so we can avoid doing imports until\n"
     ]
    },
    {
     "data": {
      "text/plain": "                                               Title  First        Last  \\\n0           Brown Bear, Brown Bear, What Do You See?   Bill  Martin Jr.   \n1  Dog Man: Brawl of the Wild: From the Creator o...    Dav      Pilkey   \n2  Dog Man: Fetch-22: From the Creator of Captain...    Dav      Pilkey   \n3  Dog Man: For Whom the Ball Rolls: From the Cre...    Dav      Pilkey   \n4                               Giraffes Can't Dance  Giles     Andreae   \n\n   Rating  source  \n0     4.9  Amazon  \n1     4.9  Amazon  \n2     4.9  Amazon  \n3     4.9  Amazon  \n4     4.8  Amazon  ",
      "text/html": "<div>\n<style scoped>\n    .dataframe tbody tr th:only-of-type {\n        vertical-align: middle;\n    }\n\n    .dataframe tbody tr th {\n        vertical-align: top;\n    }\n\n    .dataframe thead th {\n        text-align: right;\n    }\n</style>\n<table border=\"1\" class=\"dataframe\">\n  <thead>\n    <tr style=\"text-align: right;\">\n      <th></th>\n      <th>Title</th>\n      <th>First</th>\n      <th>Last</th>\n      <th>Rating</th>\n      <th>source</th>\n    </tr>\n  </thead>\n  <tbody>\n    <tr>\n      <th>0</th>\n      <td>Brown Bear, Brown Bear, What Do You See?</td>\n      <td>Bill</td>\n      <td>Martin Jr.</td>\n      <td>4.9</td>\n      <td>Amazon</td>\n    </tr>\n    <tr>\n      <th>1</th>\n      <td>Dog Man: Brawl of the Wild: From the Creator o...</td>\n      <td>Dav</td>\n      <td>Pilkey</td>\n      <td>4.9</td>\n      <td>Amazon</td>\n    </tr>\n    <tr>\n      <th>2</th>\n      <td>Dog Man: Fetch-22: From the Creator of Captain...</td>\n      <td>Dav</td>\n      <td>Pilkey</td>\n      <td>4.9</td>\n      <td>Amazon</td>\n    </tr>\n    <tr>\n      <th>3</th>\n      <td>Dog Man: For Whom the Ball Rolls: From the Cre...</td>\n      <td>Dav</td>\n      <td>Pilkey</td>\n      <td>4.9</td>\n      <td>Amazon</td>\n    </tr>\n    <tr>\n      <th>4</th>\n      <td>Giraffes Can't Dance</td>\n      <td>Giles</td>\n      <td>Andreae</td>\n      <td>4.8</td>\n      <td>Amazon</td>\n    </tr>\n  </tbody>\n</table>\n</div>"
     },
     "execution_count": 56,
     "metadata": {},
     "output_type": "execute_result"
    }
   ],
   "source": [
    "# get only relevant columns from amazon and rename columns\n",
    "amazon = amazon_orig[['Book_Title', 'First', 'Last','UserRating']]\n",
    "amazon['source'] = 'Amazon'\n",
    "amazon = amazon.rename(columns={'Book_Title': 'Title', 'UserRating': 'Rating'})\n",
    "amazon.head()"
   ],
   "metadata": {
    "collapsed": false,
    "pycharm": {
     "name": "#%%\n"
    }
   }
  },
  {
   "cell_type": "code",
   "execution_count": 57,
   "metadata": {},
   "outputs": [
    {
     "data": {
      "text/plain": "                              Title                  Author  Rating  \\\n0                    The Testaments         Margaret Atwood    4.20   \n1                     Normal People            Sally Rooney    3.86   \n2  Where the Forest Meets the Stars         Glendy Vanderah    4.12   \n3                    Ask Again, Yes         Mary-Beth Keane    3.97   \n4                           Queenie  Candice Carty-Williams    3.88   \n\n       First            Last  \n0   Margaret          Atwood  \n1      Sally          Rooney  \n2     Glendy        Vanderah  \n3  Mary-Beth           Keane  \n4    Candice  Carty-Williams  ",
      "text/html": "<div>\n<style scoped>\n    .dataframe tbody tr th:only-of-type {\n        vertical-align: middle;\n    }\n\n    .dataframe tbody tr th {\n        vertical-align: top;\n    }\n\n    .dataframe thead th {\n        text-align: right;\n    }\n</style>\n<table border=\"1\" class=\"dataframe\">\n  <thead>\n    <tr style=\"text-align: right;\">\n      <th></th>\n      <th>Title</th>\n      <th>Author</th>\n      <th>Rating</th>\n      <th>First</th>\n      <th>Last</th>\n    </tr>\n  </thead>\n  <tbody>\n    <tr>\n      <th>0</th>\n      <td>The Testaments</td>\n      <td>Margaret Atwood</td>\n      <td>4.20</td>\n      <td>Margaret</td>\n      <td>Atwood</td>\n    </tr>\n    <tr>\n      <th>1</th>\n      <td>Normal People</td>\n      <td>Sally Rooney</td>\n      <td>3.86</td>\n      <td>Sally</td>\n      <td>Rooney</td>\n    </tr>\n    <tr>\n      <th>2</th>\n      <td>Where the Forest Meets the Stars</td>\n      <td>Glendy Vanderah</td>\n      <td>4.12</td>\n      <td>Glendy</td>\n      <td>Vanderah</td>\n    </tr>\n    <tr>\n      <th>3</th>\n      <td>Ask Again, Yes</td>\n      <td>Mary-Beth Keane</td>\n      <td>3.97</td>\n      <td>Mary-Beth</td>\n      <td>Keane</td>\n    </tr>\n    <tr>\n      <th>4</th>\n      <td>Queenie</td>\n      <td>Candice Carty-Williams</td>\n      <td>3.88</td>\n      <td>Candice</td>\n      <td>Carty-Williams</td>\n    </tr>\n  </tbody>\n</table>\n</div>"
     },
     "execution_count": 57,
     "metadata": {},
     "output_type": "execute_result"
    }
   ],
   "source": [
    "# preserve original dataframe, then split the author name.  Grab only relevant columns\n",
    "goodreads = goodreads_orig.copy()\n",
    "# Added dash to name to assist with splitting first and last\n",
    "goodreads.at[3,'Author'] = 'Mary-Beth Keane'\n",
    "goodreads[['First','Last']] = goodreads.Author.str.split(expand=True)\n",
    "goodreads_drop = goodreads[['Title', 'First', 'Last', 'Rating']]\n",
    "goodreads_drop['source'] = 'Goodreads'\n",
    "goodreads.head()"
   ]
  },
  {
   "cell_type": "code",
   "execution_count": 58,
   "outputs": [
    {
     "data": {
      "text/plain": "                                                Title       First  \\\n0                                      The Testaments    Margaret   \n1                                       Normal People       Sally   \n2                    Where the Forest Meets the Stars      Glendy   \n3                                      Ask Again, Yes   Mary-Beth   \n4                                             Queenie     Candice   \n5                     On Earth We're Briefly Gorgeous       Ocean   \n6                                   A Woman Is No Man        Etaf   \n7                       The Overdue Life of Amy Byler       Kelly   \n8                                        Olive, Again   Elizabeth   \n9                            The Most Fun We Ever Had      Claire   \n10                      The Bookish Life of Nina Hill        Abbi   \n11                                 The Last Romantics        Tara   \n12                                    Red at the Bone  Jacqueline   \n13                                   When All Is Said        Anne   \n14                                  The Gifted School       Bruce   \n15                            Fleishman Is in Trouble       Taffy   \n16                                            Find Me      AndrÃ©   \n17                          The Reckless Oath We Made        Bryn   \n18                                 Girl, Woman, Other  Bernardine   \n19                                              Lanny         Max   \n0            Brown Bear, Brown Bear, What Do You See?        Bill   \n1   Dog Man: Brawl of the Wild: From the Creator o...         Dav   \n2   Dog Man: Fetch-22: From the Creator of Captain...         Dav   \n3   Dog Man: For Whom the Ball Rolls: From the Cre...         Dav   \n4                                Giraffes Can't Dance       Giles   \n5                                      Goodnight Moon    Margaret   \n6   Harry Potter and the Goblet of Fire: The Illus...       J. K.   \n7                        If Animals Kissed Good Night         Ann   \n8                           Oh, the Places You'll Go!         Dr.   \n9              Player's Handbook (Dungeons & Dragons)     Wizards   \n10             Strange Planet (Strange Planet Series)   Nathan W.   \n11                             The Guardians: A Novel        John   \n12                                 The Silent Patient        Alex   \n13                        The Very Hungry Caterpillar        Eric   \n14                   The Wonderful Things You Will Be       Emily   \n15                                   The Wonky Donkey       Craig   \n16                              To Kill a Mockingbird      Harper   \n17  What Should Danny Do? (The Power to Choose Ser...        Adir   \n18                            Where the Crawdads Sing       Delia   \n19       Wrecking Ball (Diary of a Wimpy Kid Book 14)        Jeff   \n0                     21 LESSONS FOR THE 21ST CENTURY  Yuval Noah   \n1                     21 LESSONS FOR THE 21ST CENTURY  Yuval Noah   \n2                     21 LESSONS FOR THE 21ST CENTURY  Yuval Noah   \n3                     21 LESSONS FOR THE 21ST CENTURY  Yuval Noah   \n4                     21 LESSONS FOR THE 21ST CENTURY  Yuval Noah   \n5                     21 LESSONS FOR THE 21ST CENTURY  Yuval Noah   \n6                     21 LESSONS FOR THE 21ST CENTURY  Yuval Noah   \n7                     21 LESSONS FOR THE 21ST CENTURY  Yuval Noah   \n8                     21 LESSONS FOR THE 21ST CENTURY  Yuval Noah   \n9                     21 LESSONS FOR THE 21ST CENTURY  Yuval Noah   \n10                  7-DAY APPLE CIDER VINEGAR CLEANSE          JJ   \n11                A BEAUTIFUL DAY IN THE NEIGHBORHOOD        Fred   \n12                A BEAUTIFUL DAY IN THE NEIGHBORHOOD        Fred   \n13                A BEAUTIFUL DAY IN THE NEIGHBORHOOD        Fred   \n14                A BEAUTIFUL DAY IN THE NEIGHBORHOOD        Fred   \n15                A BEAUTIFUL DAY IN THE NEIGHBORHOOD        Fred   \n16                A BEAUTIFUL DAY IN THE NEIGHBORHOOD        Fred   \n17                A BEAUTIFUL DAY IN THE NEIGHBORHOOD        Fred   \n18                A BEAUTIFUL DAY IN THE NEIGHBORHOOD        Fred   \n19                A BEAUTIFUL DAY IN THE NEIGHBORHOOD        Fred   \n\n               Last  Rating          source  \n0            Atwood    4.20       Goodreads  \n1            Rooney    3.86       Goodreads  \n2          Vanderah    4.12       Goodreads  \n3             Keane    3.97       Goodreads  \n4    Carty-Williams    3.88       Goodreads  \n5             Vuong    4.04       Goodreads  \n6               Rum    4.25       Goodreads  \n7             Harms    3.82       Goodreads  \n8            Strout    4.11       Goodreads  \n9          Lombardo    3.96       Goodreads  \n10           Waxman    3.83       Goodreads  \n11          Conklin    3.74       Goodreads  \n12          Woodson    4.01       Goodreads  \n13          Griffin    4.04       Goodreads  \n14        Holsinger    3.73       Goodreads  \n15  Brodesser-Akner    3.65       Goodreads  \n16           Aciman    3.32       Goodreads  \n17        Greenwood    4.00       Goodreads  \n18         Evaristo    4.40       Goodreads  \n19           Porter    4.06       Goodreads  \n0        Martin Jr.    4.90          Amazon  \n1            Pilkey    4.90          Amazon  \n2            Pilkey    4.90          Amazon  \n3            Pilkey    4.90          Amazon  \n4           Andreae    4.80          Amazon  \n5        Wise Brown    4.80          Amazon  \n6           Rowling    4.90          Amazon  \n7     Whitford Paul    4.80          Amazon  \n8             Seuss    4.90          Amazon  \n9          RPG Team    4.80          Amazon  \n10             Pyle    4.90          Amazon  \n11          Grisham    4.50          Amazon  \n12      Michaelides    4.50          Amazon  \n13            Carle    4.90          Amazon  \n14  Winfield Martin    4.90          Amazon  \n15            Smith    4.80          Amazon  \n16              Lee    4.80          Amazon  \n17             Levy    4.80          Amazon  \n18            Owens    4.80          Amazon  \n19           Kinney    4.90          Amazon  \n0            Harari   15.00  New York Times  \n1            Harari   12.00  New York Times  \n2            Harari   10.00  New York Times  \n3            Harari   15.00  New York Times  \n4            Harari    9.00  New York Times  \n5            Harari   13.00  New York Times  \n6            Harari    9.00  New York Times  \n7            Harari    6.00  New York Times  \n8            Harari    5.00  New York Times  \n9            Harari   13.00  New York Times  \n10            Smith    7.00  New York Times  \n11           Rogers    9.00  New York Times  \n12           Rogers    7.00  New York Times  \n13           Rogers   10.00  New York Times  \n14           Rogers    9.00  New York Times  \n15           Rogers    7.00  New York Times  \n16           Rogers   10.00  New York Times  \n17           Rogers    9.00  New York Times  \n18           Rogers    8.00  New York Times  \n19           Rogers   10.00  New York Times  ",
      "text/html": "<div>\n<style scoped>\n    .dataframe tbody tr th:only-of-type {\n        vertical-align: middle;\n    }\n\n    .dataframe tbody tr th {\n        vertical-align: top;\n    }\n\n    .dataframe thead th {\n        text-align: right;\n    }\n</style>\n<table border=\"1\" class=\"dataframe\">\n  <thead>\n    <tr style=\"text-align: right;\">\n      <th></th>\n      <th>Title</th>\n      <th>First</th>\n      <th>Last</th>\n      <th>Rating</th>\n      <th>source</th>\n    </tr>\n  </thead>\n  <tbody>\n    <tr>\n      <th>0</th>\n      <td>The Testaments</td>\n      <td>Margaret</td>\n      <td>Atwood</td>\n      <td>4.20</td>\n      <td>Goodreads</td>\n    </tr>\n    <tr>\n      <th>1</th>\n      <td>Normal People</td>\n      <td>Sally</td>\n      <td>Rooney</td>\n      <td>3.86</td>\n      <td>Goodreads</td>\n    </tr>\n    <tr>\n      <th>2</th>\n      <td>Where the Forest Meets the Stars</td>\n      <td>Glendy</td>\n      <td>Vanderah</td>\n      <td>4.12</td>\n      <td>Goodreads</td>\n    </tr>\n    <tr>\n      <th>3</th>\n      <td>Ask Again, Yes</td>\n      <td>Mary-Beth</td>\n      <td>Keane</td>\n      <td>3.97</td>\n      <td>Goodreads</td>\n    </tr>\n    <tr>\n      <th>4</th>\n      <td>Queenie</td>\n      <td>Candice</td>\n      <td>Carty-Williams</td>\n      <td>3.88</td>\n      <td>Goodreads</td>\n    </tr>\n    <tr>\n      <th>5</th>\n      <td>On Earth We're Briefly Gorgeous</td>\n      <td>Ocean</td>\n      <td>Vuong</td>\n      <td>4.04</td>\n      <td>Goodreads</td>\n    </tr>\n    <tr>\n      <th>6</th>\n      <td>A Woman Is No Man</td>\n      <td>Etaf</td>\n      <td>Rum</td>\n      <td>4.25</td>\n      <td>Goodreads</td>\n    </tr>\n    <tr>\n      <th>7</th>\n      <td>The Overdue Life of Amy Byler</td>\n      <td>Kelly</td>\n      <td>Harms</td>\n      <td>3.82</td>\n      <td>Goodreads</td>\n    </tr>\n    <tr>\n      <th>8</th>\n      <td>Olive, Again</td>\n      <td>Elizabeth</td>\n      <td>Strout</td>\n      <td>4.11</td>\n      <td>Goodreads</td>\n    </tr>\n    <tr>\n      <th>9</th>\n      <td>The Most Fun We Ever Had</td>\n      <td>Claire</td>\n      <td>Lombardo</td>\n      <td>3.96</td>\n      <td>Goodreads</td>\n    </tr>\n    <tr>\n      <th>10</th>\n      <td>The Bookish Life of Nina Hill</td>\n      <td>Abbi</td>\n      <td>Waxman</td>\n      <td>3.83</td>\n      <td>Goodreads</td>\n    </tr>\n    <tr>\n      <th>11</th>\n      <td>The Last Romantics</td>\n      <td>Tara</td>\n      <td>Conklin</td>\n      <td>3.74</td>\n      <td>Goodreads</td>\n    </tr>\n    <tr>\n      <th>12</th>\n      <td>Red at the Bone</td>\n      <td>Jacqueline</td>\n      <td>Woodson</td>\n      <td>4.01</td>\n      <td>Goodreads</td>\n    </tr>\n    <tr>\n      <th>13</th>\n      <td>When All Is Said</td>\n      <td>Anne</td>\n      <td>Griffin</td>\n      <td>4.04</td>\n      <td>Goodreads</td>\n    </tr>\n    <tr>\n      <th>14</th>\n      <td>The Gifted School</td>\n      <td>Bruce</td>\n      <td>Holsinger</td>\n      <td>3.73</td>\n      <td>Goodreads</td>\n    </tr>\n    <tr>\n      <th>15</th>\n      <td>Fleishman Is in Trouble</td>\n      <td>Taffy</td>\n      <td>Brodesser-Akner</td>\n      <td>3.65</td>\n      <td>Goodreads</td>\n    </tr>\n    <tr>\n      <th>16</th>\n      <td>Find Me</td>\n      <td>AndrÃ©</td>\n      <td>Aciman</td>\n      <td>3.32</td>\n      <td>Goodreads</td>\n    </tr>\n    <tr>\n      <th>17</th>\n      <td>The Reckless Oath We Made</td>\n      <td>Bryn</td>\n      <td>Greenwood</td>\n      <td>4.00</td>\n      <td>Goodreads</td>\n    </tr>\n    <tr>\n      <th>18</th>\n      <td>Girl, Woman, Other</td>\n      <td>Bernardine</td>\n      <td>Evaristo</td>\n      <td>4.40</td>\n      <td>Goodreads</td>\n    </tr>\n    <tr>\n      <th>19</th>\n      <td>Lanny</td>\n      <td>Max</td>\n      <td>Porter</td>\n      <td>4.06</td>\n      <td>Goodreads</td>\n    </tr>\n    <tr>\n      <th>0</th>\n      <td>Brown Bear, Brown Bear, What Do You See?</td>\n      <td>Bill</td>\n      <td>Martin Jr.</td>\n      <td>4.90</td>\n      <td>Amazon</td>\n    </tr>\n    <tr>\n      <th>1</th>\n      <td>Dog Man: Brawl of the Wild: From the Creator o...</td>\n      <td>Dav</td>\n      <td>Pilkey</td>\n      <td>4.90</td>\n      <td>Amazon</td>\n    </tr>\n    <tr>\n      <th>2</th>\n      <td>Dog Man: Fetch-22: From the Creator of Captain...</td>\n      <td>Dav</td>\n      <td>Pilkey</td>\n      <td>4.90</td>\n      <td>Amazon</td>\n    </tr>\n    <tr>\n      <th>3</th>\n      <td>Dog Man: For Whom the Ball Rolls: From the Cre...</td>\n      <td>Dav</td>\n      <td>Pilkey</td>\n      <td>4.90</td>\n      <td>Amazon</td>\n    </tr>\n    <tr>\n      <th>4</th>\n      <td>Giraffes Can't Dance</td>\n      <td>Giles</td>\n      <td>Andreae</td>\n      <td>4.80</td>\n      <td>Amazon</td>\n    </tr>\n    <tr>\n      <th>5</th>\n      <td>Goodnight Moon</td>\n      <td>Margaret</td>\n      <td>Wise Brown</td>\n      <td>4.80</td>\n      <td>Amazon</td>\n    </tr>\n    <tr>\n      <th>6</th>\n      <td>Harry Potter and the Goblet of Fire: The Illus...</td>\n      <td>J. K.</td>\n      <td>Rowling</td>\n      <td>4.90</td>\n      <td>Amazon</td>\n    </tr>\n    <tr>\n      <th>7</th>\n      <td>If Animals Kissed Good Night</td>\n      <td>Ann</td>\n      <td>Whitford Paul</td>\n      <td>4.80</td>\n      <td>Amazon</td>\n    </tr>\n    <tr>\n      <th>8</th>\n      <td>Oh, the Places You'll Go!</td>\n      <td>Dr.</td>\n      <td>Seuss</td>\n      <td>4.90</td>\n      <td>Amazon</td>\n    </tr>\n    <tr>\n      <th>9</th>\n      <td>Player's Handbook (Dungeons &amp; Dragons)</td>\n      <td>Wizards</td>\n      <td>RPG Team</td>\n      <td>4.80</td>\n      <td>Amazon</td>\n    </tr>\n    <tr>\n      <th>10</th>\n      <td>Strange Planet (Strange Planet Series)</td>\n      <td>Nathan W.</td>\n      <td>Pyle</td>\n      <td>4.90</td>\n      <td>Amazon</td>\n    </tr>\n    <tr>\n      <th>11</th>\n      <td>The Guardians: A Novel</td>\n      <td>John</td>\n      <td>Grisham</td>\n      <td>4.50</td>\n      <td>Amazon</td>\n    </tr>\n    <tr>\n      <th>12</th>\n      <td>The Silent Patient</td>\n      <td>Alex</td>\n      <td>Michaelides</td>\n      <td>4.50</td>\n      <td>Amazon</td>\n    </tr>\n    <tr>\n      <th>13</th>\n      <td>The Very Hungry Caterpillar</td>\n      <td>Eric</td>\n      <td>Carle</td>\n      <td>4.90</td>\n      <td>Amazon</td>\n    </tr>\n    <tr>\n      <th>14</th>\n      <td>The Wonderful Things You Will Be</td>\n      <td>Emily</td>\n      <td>Winfield Martin</td>\n      <td>4.90</td>\n      <td>Amazon</td>\n    </tr>\n    <tr>\n      <th>15</th>\n      <td>The Wonky Donkey</td>\n      <td>Craig</td>\n      <td>Smith</td>\n      <td>4.80</td>\n      <td>Amazon</td>\n    </tr>\n    <tr>\n      <th>16</th>\n      <td>To Kill a Mockingbird</td>\n      <td>Harper</td>\n      <td>Lee</td>\n      <td>4.80</td>\n      <td>Amazon</td>\n    </tr>\n    <tr>\n      <th>17</th>\n      <td>What Should Danny Do? (The Power to Choose Ser...</td>\n      <td>Adir</td>\n      <td>Levy</td>\n      <td>4.80</td>\n      <td>Amazon</td>\n    </tr>\n    <tr>\n      <th>18</th>\n      <td>Where the Crawdads Sing</td>\n      <td>Delia</td>\n      <td>Owens</td>\n      <td>4.80</td>\n      <td>Amazon</td>\n    </tr>\n    <tr>\n      <th>19</th>\n      <td>Wrecking Ball (Diary of a Wimpy Kid Book 14)</td>\n      <td>Jeff</td>\n      <td>Kinney</td>\n      <td>4.90</td>\n      <td>Amazon</td>\n    </tr>\n    <tr>\n      <th>0</th>\n      <td>21 LESSONS FOR THE 21ST CENTURY</td>\n      <td>Yuval Noah</td>\n      <td>Harari</td>\n      <td>15.00</td>\n      <td>New York Times</td>\n    </tr>\n    <tr>\n      <th>1</th>\n      <td>21 LESSONS FOR THE 21ST CENTURY</td>\n      <td>Yuval Noah</td>\n      <td>Harari</td>\n      <td>12.00</td>\n      <td>New York Times</td>\n    </tr>\n    <tr>\n      <th>2</th>\n      <td>21 LESSONS FOR THE 21ST CENTURY</td>\n      <td>Yuval Noah</td>\n      <td>Harari</td>\n      <td>10.00</td>\n      <td>New York Times</td>\n    </tr>\n    <tr>\n      <th>3</th>\n      <td>21 LESSONS FOR THE 21ST CENTURY</td>\n      <td>Yuval Noah</td>\n      <td>Harari</td>\n      <td>15.00</td>\n      <td>New York Times</td>\n    </tr>\n    <tr>\n      <th>4</th>\n      <td>21 LESSONS FOR THE 21ST CENTURY</td>\n      <td>Yuval Noah</td>\n      <td>Harari</td>\n      <td>9.00</td>\n      <td>New York Times</td>\n    </tr>\n    <tr>\n      <th>5</th>\n      <td>21 LESSONS FOR THE 21ST CENTURY</td>\n      <td>Yuval Noah</td>\n      <td>Harari</td>\n      <td>13.00</td>\n      <td>New York Times</td>\n    </tr>\n    <tr>\n      <th>6</th>\n      <td>21 LESSONS FOR THE 21ST CENTURY</td>\n      <td>Yuval Noah</td>\n      <td>Harari</td>\n      <td>9.00</td>\n      <td>New York Times</td>\n    </tr>\n    <tr>\n      <th>7</th>\n      <td>21 LESSONS FOR THE 21ST CENTURY</td>\n      <td>Yuval Noah</td>\n      <td>Harari</td>\n      <td>6.00</td>\n      <td>New York Times</td>\n    </tr>\n    <tr>\n      <th>8</th>\n      <td>21 LESSONS FOR THE 21ST CENTURY</td>\n      <td>Yuval Noah</td>\n      <td>Harari</td>\n      <td>5.00</td>\n      <td>New York Times</td>\n    </tr>\n    <tr>\n      <th>9</th>\n      <td>21 LESSONS FOR THE 21ST CENTURY</td>\n      <td>Yuval Noah</td>\n      <td>Harari</td>\n      <td>13.00</td>\n      <td>New York Times</td>\n    </tr>\n    <tr>\n      <th>10</th>\n      <td>7-DAY APPLE CIDER VINEGAR CLEANSE</td>\n      <td>JJ</td>\n      <td>Smith</td>\n      <td>7.00</td>\n      <td>New York Times</td>\n    </tr>\n    <tr>\n      <th>11</th>\n      <td>A BEAUTIFUL DAY IN THE NEIGHBORHOOD</td>\n      <td>Fred</td>\n      <td>Rogers</td>\n      <td>9.00</td>\n      <td>New York Times</td>\n    </tr>\n    <tr>\n      <th>12</th>\n      <td>A BEAUTIFUL DAY IN THE NEIGHBORHOOD</td>\n      <td>Fred</td>\n      <td>Rogers</td>\n      <td>7.00</td>\n      <td>New York Times</td>\n    </tr>\n    <tr>\n      <th>13</th>\n      <td>A BEAUTIFUL DAY IN THE NEIGHBORHOOD</td>\n      <td>Fred</td>\n      <td>Rogers</td>\n      <td>10.00</td>\n      <td>New York Times</td>\n    </tr>\n    <tr>\n      <th>14</th>\n      <td>A BEAUTIFUL DAY IN THE NEIGHBORHOOD</td>\n      <td>Fred</td>\n      <td>Rogers</td>\n      <td>9.00</td>\n      <td>New York Times</td>\n    </tr>\n    <tr>\n      <th>15</th>\n      <td>A BEAUTIFUL DAY IN THE NEIGHBORHOOD</td>\n      <td>Fred</td>\n      <td>Rogers</td>\n      <td>7.00</td>\n      <td>New York Times</td>\n    </tr>\n    <tr>\n      <th>16</th>\n      <td>A BEAUTIFUL DAY IN THE NEIGHBORHOOD</td>\n      <td>Fred</td>\n      <td>Rogers</td>\n      <td>10.00</td>\n      <td>New York Times</td>\n    </tr>\n    <tr>\n      <th>17</th>\n      <td>A BEAUTIFUL DAY IN THE NEIGHBORHOOD</td>\n      <td>Fred</td>\n      <td>Rogers</td>\n      <td>9.00</td>\n      <td>New York Times</td>\n    </tr>\n    <tr>\n      <th>18</th>\n      <td>A BEAUTIFUL DAY IN THE NEIGHBORHOOD</td>\n      <td>Fred</td>\n      <td>Rogers</td>\n      <td>8.00</td>\n      <td>New York Times</td>\n    </tr>\n    <tr>\n      <th>19</th>\n      <td>A BEAUTIFUL DAY IN THE NEIGHBORHOOD</td>\n      <td>Fred</td>\n      <td>Rogers</td>\n      <td>10.00</td>\n      <td>New York Times</td>\n    </tr>\n  </tbody>\n</table>\n</div>"
     },
     "execution_count": 58,
     "metadata": {},
     "output_type": "execute_result"
    }
   ],
   "source": [
    "# Add two dataframes together\n",
    "total = goodreads_drop.copy()\n",
    "total = total.append(amazon)\n",
    "total = total.append(nyt)\n",
    "total.head(60)"
   ],
   "metadata": {
    "collapsed": false,
    "pycharm": {
     "name": "#%%\n"
    }
   }
  },
  {
   "cell_type": "code",
   "execution_count": 59,
   "metadata": {},
   "outputs": [
    {
     "data": {
      "text/plain": "   author_id  first_name last_name\n0          0     W Bruce   Cameron\n1          1      Robert     Crais\n2          2         Ben     Folds\n3          3         Ken   Follett\n4          4  Yuval Noah    Harari",
      "text/html": "<div>\n<style scoped>\n    .dataframe tbody tr th:only-of-type {\n        vertical-align: middle;\n    }\n\n    .dataframe tbody tr th {\n        vertical-align: top;\n    }\n\n    .dataframe thead th {\n        text-align: right;\n    }\n</style>\n<table border=\"1\" class=\"dataframe\">\n  <thead>\n    <tr style=\"text-align: right;\">\n      <th></th>\n      <th>author_id</th>\n      <th>first_name</th>\n      <th>last_name</th>\n    </tr>\n  </thead>\n  <tbody>\n    <tr>\n      <th>0</th>\n      <td>0</td>\n      <td>W Bruce</td>\n      <td>Cameron</td>\n    </tr>\n    <tr>\n      <th>1</th>\n      <td>1</td>\n      <td>Robert</td>\n      <td>Crais</td>\n    </tr>\n    <tr>\n      <th>2</th>\n      <td>2</td>\n      <td>Ben</td>\n      <td>Folds</td>\n    </tr>\n    <tr>\n      <th>3</th>\n      <td>3</td>\n      <td>Ken</td>\n      <td>Follett</td>\n    </tr>\n    <tr>\n      <th>4</th>\n      <td>4</td>\n      <td>Yuval Noah</td>\n      <td>Harari</td>\n    </tr>\n  </tbody>\n</table>\n</div>"
     },
     "execution_count": 59,
     "metadata": {},
     "output_type": "execute_result"
    }
   ],
   "source": [
    "# create author table/dataframe using the index as a PK\n",
    "author = pd.DataFrame(total.groupby(['Last','First']).count())\n",
    "author = author.reset_index()\n",
    "author_final = author[['First', 'Last']]\n",
    "author_final = author_final.drop_duplicates()\n",
    "author_final = author_final.reset_index()\n",
    "author_final = author_final.rename(columns={'index': 'author_id', 'First': 'first_name', 'Last': 'last_name'})\n",
    "author_final.head()\n"
   ]
  },
  {
   "cell_type": "code",
   "execution_count": 60,
   "outputs": [
    {
     "data": {
      "text/plain": "    book_id                                              title  author_fk\n0         0                                     The Testaments         16\n1         1                                      Normal People         45\n2         2                   Where the Forest Meets the Stars         52\n3         3                                     Ask Again, Yes         30\n4         4                                            Queenie         20\n5         5                    On Earth We're Briefly Gorgeous         53\n6         6                                  A Woman Is No Man         47\n7         7                      The Overdue Life of Amy Byler         28\n8         8                                       Olive, Again         50\n9         9                           The Most Fun We Ever Had         34\n10       10                      The Bookish Life of Nina Hill         54\n11       11                                 The Last Romantics         21\n12       12                                    Red at the Bone         58\n13       13                                   When All Is Said         26\n14       14                                  The Gifted School         29\n15       15                            Fleishman Is in Trouble         18\n16       16                                            Find Me         14\n17       17                          The Reckless Oath We Made         25\n18       18                                 Girl, Woman, Other         24\n19       19                                              Lanny         40\n20       20           Brown Bear, Brown Bear, What Do You See?         35\n21       21  Dog Man: Brawl of the Wild: From the Creator o...         39\n22       22  Dog Man: Fetch-22: From the Creator of Captain...         39\n23       23  Dog Man: For Whom the Ball Rolls: From the Cre...         39\n24       24                               Giraffes Can't Dance         15\n25       25                                     Goodnight Moon         57\n26       26  Harry Potter and the Goblet of Fire: The Illus...         46\n27       27                       If Animals Kissed Good Night         55\n28       28                          Oh, the Places You'll Go!         48\n29       29             Player's Handbook (Dungeons & Dragons)         42\n30       30             Strange Planet (Strange Planet Series)         41\n31       31                             The Guardians: A Novel         27\n32       32                                 The Silent Patient         36\n33       33                        The Very Hungry Caterpillar         19\n34       34                   The Wonderful Things You Will Be         56\n35       35                                   The Wonky Donkey         49\n36       36                              To Kill a Mockingbird         32\n37       37  What Should Danny Do? (The Power to Choose Ser...         33\n38       38                            Where the Crawdads Sing         37\n39       39       Wrecking Ball (Diary of a Wimpy Kid Book 14)         31\n40       40                    21 LESSONS FOR THE 21ST CENTURY          4\n41       50                  7-DAY APPLE CIDER VINEGAR CLEANSE         10\n42       51                A BEAUTIFUL DAY IN THE NEIGHBORHOOD         44\n43       71                                       A BETTER MAN          9\n44       80                                   A CLASH OF KINGS          7\n45       83                                   A COLUMN OF FIRE          3\n46       84                         A CURSE SO DARK AND LONELY          6\n47       85                                    A DANGEROUS MAN          1\n48       88                                   A DELICATE TOUCH         12\n49       90                             A DISCOVERY OF WITCHES          5\n50       92                                    A DOG'S JOURNEY          0\n51       96                                   A DOG'S WAY HOME          0\n52      107                       A DREAM ABOUT LIGHTNING BUGS          2\n53      109                                  A FEAST FOR CROWS          7\n54      110                              A GENTLEMAN IN MOSCOW         51\n55      121                                    A KILLER'S MIND          8\n56      122                                    A LITTLE HATRED         13\n57      124                               A MINUTE TO MIDNIGHT         17\n58      131                               A PIGLET NAMED MERCY         23\n59      134                         A SERIAL KILLER'S DAUGHTER         43",
      "text/html": "<div>\n<style scoped>\n    .dataframe tbody tr th:only-of-type {\n        vertical-align: middle;\n    }\n\n    .dataframe tbody tr th {\n        vertical-align: top;\n    }\n\n    .dataframe thead th {\n        text-align: right;\n    }\n</style>\n<table border=\"1\" class=\"dataframe\">\n  <thead>\n    <tr style=\"text-align: right;\">\n      <th></th>\n      <th>book_id</th>\n      <th>title</th>\n      <th>author_fk</th>\n    </tr>\n  </thead>\n  <tbody>\n    <tr>\n      <th>0</th>\n      <td>0</td>\n      <td>The Testaments</td>\n      <td>16</td>\n    </tr>\n    <tr>\n      <th>1</th>\n      <td>1</td>\n      <td>Normal People</td>\n      <td>45</td>\n    </tr>\n    <tr>\n      <th>2</th>\n      <td>2</td>\n      <td>Where the Forest Meets the Stars</td>\n      <td>52</td>\n    </tr>\n    <tr>\n      <th>3</th>\n      <td>3</td>\n      <td>Ask Again, Yes</td>\n      <td>30</td>\n    </tr>\n    <tr>\n      <th>4</th>\n      <td>4</td>\n      <td>Queenie</td>\n      <td>20</td>\n    </tr>\n    <tr>\n      <th>5</th>\n      <td>5</td>\n      <td>On Earth We're Briefly Gorgeous</td>\n      <td>53</td>\n    </tr>\n    <tr>\n      <th>6</th>\n      <td>6</td>\n      <td>A Woman Is No Man</td>\n      <td>47</td>\n    </tr>\n    <tr>\n      <th>7</th>\n      <td>7</td>\n      <td>The Overdue Life of Amy Byler</td>\n      <td>28</td>\n    </tr>\n    <tr>\n      <th>8</th>\n      <td>8</td>\n      <td>Olive, Again</td>\n      <td>50</td>\n    </tr>\n    <tr>\n      <th>9</th>\n      <td>9</td>\n      <td>The Most Fun We Ever Had</td>\n      <td>34</td>\n    </tr>\n    <tr>\n      <th>10</th>\n      <td>10</td>\n      <td>The Bookish Life of Nina Hill</td>\n      <td>54</td>\n    </tr>\n    <tr>\n      <th>11</th>\n      <td>11</td>\n      <td>The Last Romantics</td>\n      <td>21</td>\n    </tr>\n    <tr>\n      <th>12</th>\n      <td>12</td>\n      <td>Red at the Bone</td>\n      <td>58</td>\n    </tr>\n    <tr>\n      <th>13</th>\n      <td>13</td>\n      <td>When All Is Said</td>\n      <td>26</td>\n    </tr>\n    <tr>\n      <th>14</th>\n      <td>14</td>\n      <td>The Gifted School</td>\n      <td>29</td>\n    </tr>\n    <tr>\n      <th>15</th>\n      <td>15</td>\n      <td>Fleishman Is in Trouble</td>\n      <td>18</td>\n    </tr>\n    <tr>\n      <th>16</th>\n      <td>16</td>\n      <td>Find Me</td>\n      <td>14</td>\n    </tr>\n    <tr>\n      <th>17</th>\n      <td>17</td>\n      <td>The Reckless Oath We Made</td>\n      <td>25</td>\n    </tr>\n    <tr>\n      <th>18</th>\n      <td>18</td>\n      <td>Girl, Woman, Other</td>\n      <td>24</td>\n    </tr>\n    <tr>\n      <th>19</th>\n      <td>19</td>\n      <td>Lanny</td>\n      <td>40</td>\n    </tr>\n    <tr>\n      <th>20</th>\n      <td>20</td>\n      <td>Brown Bear, Brown Bear, What Do You See?</td>\n      <td>35</td>\n    </tr>\n    <tr>\n      <th>21</th>\n      <td>21</td>\n      <td>Dog Man: Brawl of the Wild: From the Creator o...</td>\n      <td>39</td>\n    </tr>\n    <tr>\n      <th>22</th>\n      <td>22</td>\n      <td>Dog Man: Fetch-22: From the Creator of Captain...</td>\n      <td>39</td>\n    </tr>\n    <tr>\n      <th>23</th>\n      <td>23</td>\n      <td>Dog Man: For Whom the Ball Rolls: From the Cre...</td>\n      <td>39</td>\n    </tr>\n    <tr>\n      <th>24</th>\n      <td>24</td>\n      <td>Giraffes Can't Dance</td>\n      <td>15</td>\n    </tr>\n    <tr>\n      <th>25</th>\n      <td>25</td>\n      <td>Goodnight Moon</td>\n      <td>57</td>\n    </tr>\n    <tr>\n      <th>26</th>\n      <td>26</td>\n      <td>Harry Potter and the Goblet of Fire: The Illus...</td>\n      <td>46</td>\n    </tr>\n    <tr>\n      <th>27</th>\n      <td>27</td>\n      <td>If Animals Kissed Good Night</td>\n      <td>55</td>\n    </tr>\n    <tr>\n      <th>28</th>\n      <td>28</td>\n      <td>Oh, the Places You'll Go!</td>\n      <td>48</td>\n    </tr>\n    <tr>\n      <th>29</th>\n      <td>29</td>\n      <td>Player's Handbook (Dungeons &amp; Dragons)</td>\n      <td>42</td>\n    </tr>\n    <tr>\n      <th>30</th>\n      <td>30</td>\n      <td>Strange Planet (Strange Planet Series)</td>\n      <td>41</td>\n    </tr>\n    <tr>\n      <th>31</th>\n      <td>31</td>\n      <td>The Guardians: A Novel</td>\n      <td>27</td>\n    </tr>\n    <tr>\n      <th>32</th>\n      <td>32</td>\n      <td>The Silent Patient</td>\n      <td>36</td>\n    </tr>\n    <tr>\n      <th>33</th>\n      <td>33</td>\n      <td>The Very Hungry Caterpillar</td>\n      <td>19</td>\n    </tr>\n    <tr>\n      <th>34</th>\n      <td>34</td>\n      <td>The Wonderful Things You Will Be</td>\n      <td>56</td>\n    </tr>\n    <tr>\n      <th>35</th>\n      <td>35</td>\n      <td>The Wonky Donkey</td>\n      <td>49</td>\n    </tr>\n    <tr>\n      <th>36</th>\n      <td>36</td>\n      <td>To Kill a Mockingbird</td>\n      <td>32</td>\n    </tr>\n    <tr>\n      <th>37</th>\n      <td>37</td>\n      <td>What Should Danny Do? (The Power to Choose Ser...</td>\n      <td>33</td>\n    </tr>\n    <tr>\n      <th>38</th>\n      <td>38</td>\n      <td>Where the Crawdads Sing</td>\n      <td>37</td>\n    </tr>\n    <tr>\n      <th>39</th>\n      <td>39</td>\n      <td>Wrecking Ball (Diary of a Wimpy Kid Book 14)</td>\n      <td>31</td>\n    </tr>\n    <tr>\n      <th>40</th>\n      <td>40</td>\n      <td>21 LESSONS FOR THE 21ST CENTURY</td>\n      <td>4</td>\n    </tr>\n    <tr>\n      <th>41</th>\n      <td>50</td>\n      <td>7-DAY APPLE CIDER VINEGAR CLEANSE</td>\n      <td>10</td>\n    </tr>\n    <tr>\n      <th>42</th>\n      <td>51</td>\n      <td>A BEAUTIFUL DAY IN THE NEIGHBORHOOD</td>\n      <td>44</td>\n    </tr>\n    <tr>\n      <th>43</th>\n      <td>71</td>\n      <td>A BETTER MAN</td>\n      <td>9</td>\n    </tr>\n    <tr>\n      <th>44</th>\n      <td>80</td>\n      <td>A CLASH OF KINGS</td>\n      <td>7</td>\n    </tr>\n    <tr>\n      <th>45</th>\n      <td>83</td>\n      <td>A COLUMN OF FIRE</td>\n      <td>3</td>\n    </tr>\n    <tr>\n      <th>46</th>\n      <td>84</td>\n      <td>A CURSE SO DARK AND LONELY</td>\n      <td>6</td>\n    </tr>\n    <tr>\n      <th>47</th>\n      <td>85</td>\n      <td>A DANGEROUS MAN</td>\n      <td>1</td>\n    </tr>\n    <tr>\n      <th>48</th>\n      <td>88</td>\n      <td>A DELICATE TOUCH</td>\n      <td>12</td>\n    </tr>\n    <tr>\n      <th>49</th>\n      <td>90</td>\n      <td>A DISCOVERY OF WITCHES</td>\n      <td>5</td>\n    </tr>\n    <tr>\n      <th>50</th>\n      <td>92</td>\n      <td>A DOG'S JOURNEY</td>\n      <td>0</td>\n    </tr>\n    <tr>\n      <th>51</th>\n      <td>96</td>\n      <td>A DOG'S WAY HOME</td>\n      <td>0</td>\n    </tr>\n    <tr>\n      <th>52</th>\n      <td>107</td>\n      <td>A DREAM ABOUT LIGHTNING BUGS</td>\n      <td>2</td>\n    </tr>\n    <tr>\n      <th>53</th>\n      <td>109</td>\n      <td>A FEAST FOR CROWS</td>\n      <td>7</td>\n    </tr>\n    <tr>\n      <th>54</th>\n      <td>110</td>\n      <td>A GENTLEMAN IN MOSCOW</td>\n      <td>51</td>\n    </tr>\n    <tr>\n      <th>55</th>\n      <td>121</td>\n      <td>A KILLER'S MIND</td>\n      <td>8</td>\n    </tr>\n    <tr>\n      <th>56</th>\n      <td>122</td>\n      <td>A LITTLE HATRED</td>\n      <td>13</td>\n    </tr>\n    <tr>\n      <th>57</th>\n      <td>124</td>\n      <td>A MINUTE TO MIDNIGHT</td>\n      <td>17</td>\n    </tr>\n    <tr>\n      <th>58</th>\n      <td>131</td>\n      <td>A PIGLET NAMED MERCY</td>\n      <td>23</td>\n    </tr>\n    <tr>\n      <th>59</th>\n      <td>134</td>\n      <td>A SERIAL KILLER'S DAUGHTER</td>\n      <td>43</td>\n    </tr>\n  </tbody>\n</table>\n</div>"
     },
     "execution_count": 60,
     "metadata": {},
     "output_type": "execute_result"
    }
   ],
   "source": [
    "# find the author's last name and replace with the author PK number\n",
    "books = total.copy()\n",
    "\n",
    "for name in author_final.index:\n",
    "    books = books.replace(to_replace=author_final.iloc[name]['last_name'], value=author_final.loc[name]['author_id'])\n",
    "\n",
    "# Finish finageling the books table/dataframe using the index as a PK\n",
    "books_final = books[['Title', 'Last']]\n",
    "books_final = books_final.reset_index(drop=True)\n",
    "books_final = books_final.drop_duplicates()\n",
    "books_final = books_final.reset_index()\n",
    "books_final = books_final.rename(columns={'index': 'book_id', 'Title': 'title','Last': 'author_fk'})\n",
    "books_final.head()\n"
   ],
   "metadata": {
    "collapsed": false,
    "pycharm": {
     "name": "#%%\n"
    }
   }
  },
  {
   "cell_type": "code",
   "execution_count": 61,
   "outputs": [
    {
     "data": {
      "text/plain": "   source_id     source_name         type\n0          0       Goodreads  User Rating\n1          1          Amazon  User Rating\n2          2  New York Times   Bestseller",
      "text/html": "<div>\n<style scoped>\n    .dataframe tbody tr th:only-of-type {\n        vertical-align: middle;\n    }\n\n    .dataframe tbody tr th {\n        vertical-align: top;\n    }\n\n    .dataframe thead th {\n        text-align: right;\n    }\n</style>\n<table border=\"1\" class=\"dataframe\">\n  <thead>\n    <tr style=\"text-align: right;\">\n      <th></th>\n      <th>source_id</th>\n      <th>source_name</th>\n      <th>type</th>\n    </tr>\n  </thead>\n  <tbody>\n    <tr>\n      <th>0</th>\n      <td>0</td>\n      <td>Goodreads</td>\n      <td>User Rating</td>\n    </tr>\n    <tr>\n      <th>1</th>\n      <td>1</td>\n      <td>Amazon</td>\n      <td>User Rating</td>\n    </tr>\n    <tr>\n      <th>2</th>\n      <td>2</td>\n      <td>New York Times</td>\n      <td>Bestseller</td>\n    </tr>\n  </tbody>\n</table>\n</div>"
     },
     "execution_count": 61,
     "metadata": {},
     "output_type": "execute_result"
    }
   ],
   "source": [
    "# Create source table/dataframe\n",
    "source = pd.DataFrame()\n",
    "source['source_name'] = ['Goodreads', 'Amazon','New York Times']\n",
    "source['type'] = ['User Rating', 'User Rating', 'Bestseller']\n",
    "source_final = source.reset_index()\n",
    "source_final = source_final.rename(columns={'index': 'source_id'})\n",
    "\n",
    "source_final.head()"
   ],
   "metadata": {
    "collapsed": false,
    "pycharm": {
     "name": "#%%\n"
    }
   }
  },
  {
   "cell_type": "code",
   "execution_count": 62,
   "outputs": [
    {
     "data": {
      "text/plain": "   review_id  book_fk  rating  source_fk\n0          0        0    4.20          0\n1          1        1    3.86          0\n2          2        2    4.12          0\n3          3        3    3.97          0\n4          4        4    3.88          0",
      "text/html": "<div>\n<style scoped>\n    .dataframe tbody tr th:only-of-type {\n        vertical-align: middle;\n    }\n\n    .dataframe tbody tr th {\n        vertical-align: top;\n    }\n\n    .dataframe thead th {\n        text-align: right;\n    }\n</style>\n<table border=\"1\" class=\"dataframe\">\n  <thead>\n    <tr style=\"text-align: right;\">\n      <th></th>\n      <th>review_id</th>\n      <th>book_fk</th>\n      <th>rating</th>\n      <th>source_fk</th>\n    </tr>\n  </thead>\n  <tbody>\n    <tr>\n      <th>0</th>\n      <td>0</td>\n      <td>0</td>\n      <td>4.20</td>\n      <td>0</td>\n    </tr>\n    <tr>\n      <th>1</th>\n      <td>1</td>\n      <td>1</td>\n      <td>3.86</td>\n      <td>0</td>\n    </tr>\n    <tr>\n      <th>2</th>\n      <td>2</td>\n      <td>2</td>\n      <td>4.12</td>\n      <td>0</td>\n    </tr>\n    <tr>\n      <th>3</th>\n      <td>3</td>\n      <td>3</td>\n      <td>3.97</td>\n      <td>0</td>\n    </tr>\n    <tr>\n      <th>4</th>\n      <td>4</td>\n      <td>4</td>\n      <td>3.88</td>\n      <td>0</td>\n    </tr>\n  </tbody>\n</table>\n</div>"
     },
     "execution_count": 62,
     "metadata": {},
     "output_type": "execute_result"
    }
   ],
   "source": [
    "# Create review table/dataframe.  Replace source and title with ids\n",
    "review = total.copy()\n",
    "for name in source_final.index:\n",
    "    review = review.replace(to_replace=source_final.iloc[name]['source_name'], value=source_final.loc[name]['source_id'])\n",
    "\n",
    "for name in books_final.index:\n",
    "     review = review.replace(to_replace=books_final.iloc[name]['title'], value=books_final.loc[name]['book_id'])\n",
    "review_final = review[['Title', 'Rating', 'source']]\n",
    "review_final = review_final.reset_index(drop=True)\n",
    "review_final = review_final.reset_index()\n",
    "review_final = review_final.rename(columns={'index': 'review_id','Title': 'book_fk','source': 'source_fk', 'Rating': 'rating'})\n",
    "review_final.head()\n"
   ],
   "metadata": {
    "collapsed": false,
    "pycharm": {
     "name": "#%%\n"
    }
   }
  },
  {
   "cell_type": "code",
   "execution_count": 63,
   "metadata": {},
   "outputs": [],
   "source": [
    "# enter password for postgres\n",
    "rds_connection_string = \"postgres:postgres@localhost:5432/ETL_Project\"\n",
    "engine = create_engine(f'postgresql://{rds_connection_string}')\n",
    "\n"
   ]
  },
  {
   "cell_type": "code",
   "execution_count": 64,
   "outputs": [],
   "source": [
    "# Add data to empty tables.\n",
    "author_final.to_sql(name='author', con=engine, if_exists='append', index=False)\n",
    "books_final.to_sql(name='book', con=engine, if_exists='append', index=False)\n",
    "source_final.to_sql(name='source', con=engine, if_exists='append', index=False)\n",
    "review_final.to_sql(name='review', con=engine, if_exists='append', index=False)"
   ],
   "metadata": {
    "collapsed": false,
    "pycharm": {
     "name": "#%%\n"
    }
   }
  }
 ],
 "metadata": {
  "anaconda-cloud": {},
  "kernelspec": {
   "name": "conda-env-PythonData-py",
   "language": "python",
   "display_name": "Python [conda env:PythonData] *"
  },
  "language_info": {
   "codemirror_mode": {
    "name": "ipython",
    "version": 3
   },
   "file_extension": ".py",
   "mimetype": "text/x-python",
   "name": "python",
   "nbconvert_exporter": "python",
   "pygments_lexer": "ipython3",
   "version": "3.6.10"
  }
 },
 "nbformat": 4,
 "nbformat_minor": 2
}